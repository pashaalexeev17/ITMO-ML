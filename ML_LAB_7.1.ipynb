{
  "nbformat": 4,
  "nbformat_minor": 0,
  "metadata": {
    "colab": {
      "provenance": []
    },
    "kernelspec": {
      "display_name": "Python 3",
      "language": "python",
      "name": "python3"
    },
    "language_info": {
      "codemirror_mode": {
        "name": "ipython",
        "version": 3
      },
      "file_extension": ".py",
      "mimetype": "text/x-python",
      "name": "python",
      "nbconvert_exporter": "python",
      "pygments_lexer": "ipython3",
      "version": "3.6.5"
    },
    "accelerator": "GPU",
    "gpuClass": "standard"
  },
  "cells": [
    {
      "cell_type": "markdown",
      "metadata": {
        "id": "vcnGdgw_YJ8u"
      },
      "source": [
        "# PyTorch. Основы: синтаксис, torch.cuda и torch.autograd\n",
        "\n",
        "## Задание 7.1"
      ]
    },
    {
      "cell_type": "code",
      "metadata": {
        "id": "RtyozNmmYJ89"
      },
      "source": [
        "import torch\n",
        "import matplotlib.pyplot as plt"
      ],
      "execution_count": null,
      "outputs": []
    },
    {
      "cell_type": "markdown",
      "metadata": {
        "id": "ny4-Qi2wYJ-6"
      },
      "source": [
        "### Задача 1"
      ]
    },
    {
      "cell_type": "markdown",
      "metadata": {
        "id": "IWxlFq0bYJ-_"
      },
      "source": [
        "1). Создайте два вещественных тензора: `a` размером (3, 4) и `b` размером (12,)   \n",
        "2). Создайте тензор `c`, являющийся тензором `b`, но размера (2, 2, 3)  \n",
        "3). Выведите первый столбец матрицы `a` с помощью индексации"
      ]
    },
    {
      "cell_type": "code",
      "metadata": {
        "id": "3oxZuk3yYJ_A",
        "colab": {
          "base_uri": "https://localhost:8080/"
        },
        "outputId": "2c315a52-ab42-41f8-af86-be887cc08e46"
      },
      "source": [
        "a = torch.FloatTensor(3, 4)\n",
        "print(a)"
      ],
      "execution_count": null,
      "outputs": [
        {
          "output_type": "stream",
          "name": "stdout",
          "text": [
            "tensor([[2.8148e-34, 0.0000e+00, 3.7835e-44, 0.0000e+00],\n",
            "        [       nan, 0.0000e+00, 1.3733e-14, 6.4069e+02],\n",
            "        [4.3066e+21, 1.1824e+22, 4.3066e+21, 6.3828e+28]])\n"
          ]
        }
      ]
    },
    {
      "cell_type": "code",
      "source": [
        "b = torch.FloatTensor(12,)\n",
        "print(b)"
      ],
      "metadata": {
        "colab": {
          "base_uri": "https://localhost:8080/"
        },
        "id": "UjHIdtLnv1qo",
        "outputId": "54f6038e-7c6c-4a82-8e6e-5974ee9d617b"
      },
      "execution_count": null,
      "outputs": [
        {
          "output_type": "stream",
          "name": "stdout",
          "text": [
            "tensor([2.8149e-34, 0.0000e+00, 5.0447e-44, 0.0000e+00,        nan, 0.0000e+00,\n",
            "        1.3788e-14, 3.6423e-06, 2.0699e-19, 3.3738e-12, 7.4086e+28, 6.9397e+22])\n"
          ]
        }
      ]
    },
    {
      "cell_type": "code",
      "source": [
        "c = b.view(2,2,3)\n",
        "print(c)"
      ],
      "metadata": {
        "colab": {
          "base_uri": "https://localhost:8080/"
        },
        "id": "1s3X8vWDwJY1",
        "outputId": "d1ba24e2-bca4-421b-d26a-ccbc803846eb"
      },
      "execution_count": null,
      "outputs": [
        {
          "output_type": "stream",
          "name": "stdout",
          "text": [
            "tensor([[[2.8149e-34, 0.0000e+00, 5.0447e-44],\n",
            "         [0.0000e+00,        nan, 0.0000e+00]],\n",
            "\n",
            "        [[1.3788e-14, 3.6423e-06, 2.0699e-19],\n",
            "         [3.3738e-12, 7.4086e+28, 6.9397e+22]]])\n"
          ]
        }
      ]
    },
    {
      "cell_type": "code",
      "source": [
        "a[:, 0:1]"
      ],
      "metadata": {
        "colab": {
          "base_uri": "https://localhost:8080/"
        },
        "id": "zhWY_I9cwXPj",
        "outputId": "eb96d733-ff6f-4fbf-a888-53a41ee2a6c7"
      },
      "execution_count": null,
      "outputs": [
        {
          "output_type": "execute_result",
          "data": {
            "text/plain": [
              "tensor([[2.8148e-34],\n",
              "        [       nan],\n",
              "        [4.3066e+21]])"
            ]
          },
          "metadata": {},
          "execution_count": 5
        }
      ]
    },
    {
      "cell_type": "markdown",
      "metadata": {
        "id": "D2IP_FrKYKAA"
      },
      "source": [
        "### Задача 2"
      ]
    },
    {
      "cell_type": "markdown",
      "metadata": {
        "id": "tBZFbSYQYKAA"
      },
      "source": [
        "1). Создайте два вещественных тензора: `a` размером (5, 2) и `b` размером (1,10)   \n",
        "2). Создайте тензор `c`, являющийся тензором `b`, но размера (5, 2)  \n",
        "3). Произведите все арифметические операции с тензорами `a` и `c`"
      ]
    },
    {
      "cell_type": "code",
      "metadata": {
        "id": "hzs2bH3GYKAB",
        "colab": {
          "base_uri": "https://localhost:8080/"
        },
        "outputId": "fed8e5ec-74ed-4b8b-aa8c-ed36ff30a2ae"
      },
      "source": [
        "a = torch.FloatTensor(5, 2)\n",
        "print(a)"
      ],
      "execution_count": null,
      "outputs": [
        {
          "output_type": "stream",
          "name": "stdout",
          "text": [
            "tensor([[2.8152e-34, 0.0000e+00],\n",
            "        [1.0000e+00,        nan],\n",
            "        [1.0000e+00,        nan],\n",
            "        [1.0000e+00, 1.0000e+00],\n",
            "        [1.0000e+00, 1.0000e+00]])\n"
          ]
        }
      ]
    },
    {
      "cell_type": "code",
      "source": [
        "b = torch.FloatTensor(1,10)\n",
        "print(b)"
      ],
      "metadata": {
        "colab": {
          "base_uri": "https://localhost:8080/"
        },
        "id": "5LYxzAnIxMwo",
        "outputId": "f5750050-e2ce-4b37-919b-61dc8c38dd4d"
      },
      "execution_count": null,
      "outputs": [
        {
          "output_type": "stream",
          "name": "stdout",
          "text": [
            "tensor([[2.8152e-34, 0.0000e+00, 3.3631e-44, 0.0000e+00,        nan,        nan,\n",
            "         4.4721e+21, 1.5956e+25, 4.7399e+16, 2.3308e-09]])\n"
          ]
        }
      ]
    },
    {
      "cell_type": "code",
      "source": [
        "c = b.view(5,2)\n",
        "print(c)"
      ],
      "metadata": {
        "colab": {
          "base_uri": "https://localhost:8080/"
        },
        "id": "nPYITn8WxPhY",
        "outputId": "40a77951-2146-42ba-ffb4-43a46684a98c"
      },
      "execution_count": null,
      "outputs": [
        {
          "output_type": "stream",
          "name": "stdout",
          "text": [
            "tensor([[2.8152e-34, 0.0000e+00],\n",
            "        [3.3631e-44, 0.0000e+00],\n",
            "        [       nan,        nan],\n",
            "        [4.4721e+21, 1.5956e+25],\n",
            "        [4.7399e+16, 2.3308e-09]])\n"
          ]
        }
      ]
    },
    {
      "cell_type": "markdown",
      "source": [
        "**\"+\"**"
      ],
      "metadata": {
        "id": "vPBU2RDby83v"
      }
    },
    {
      "cell_type": "code",
      "source": [
        "a.add(c)"
      ],
      "metadata": {
        "colab": {
          "base_uri": "https://localhost:8080/"
        },
        "id": "8NheehJvy8Tf",
        "outputId": "75c0f7f8-c341-4ec6-c5eb-2c4015a2fa91"
      },
      "execution_count": null,
      "outputs": [
        {
          "output_type": "execute_result",
          "data": {
            "text/plain": [
              "tensor([[5.6305e-34, 0.0000e+00],\n",
              "        [1.0000e+00,        nan],\n",
              "        [       nan,        nan],\n",
              "        [4.4721e+21, 1.5956e+25],\n",
              "        [4.7399e+16, 1.0000e+00]])"
            ]
          },
          "metadata": {},
          "execution_count": 17
        }
      ]
    },
    {
      "cell_type": "markdown",
      "source": [
        "**\"*\"**"
      ],
      "metadata": {
        "id": "Mc7X3nAQzDx1"
      }
    },
    {
      "cell_type": "code",
      "source": [
        "a.mul(c)"
      ],
      "metadata": {
        "colab": {
          "base_uri": "https://localhost:8080/"
        },
        "id": "eduGXzG0zDTe",
        "outputId": "501365f3-cd41-4c3d-beef-b2baf962f393"
      },
      "execution_count": null,
      "outputs": [
        {
          "output_type": "execute_result",
          "data": {
            "text/plain": [
              "tensor([[0.0000e+00, 0.0000e+00],\n",
              "        [3.3631e-44,        nan],\n",
              "        [       nan,        nan],\n",
              "        [4.4721e+21, 1.5956e+25],\n",
              "        [4.7399e+16, 2.3308e-09]])"
            ]
          },
          "metadata": {},
          "execution_count": 18
        }
      ]
    },
    {
      "cell_type": "markdown",
      "source": [
        "**\"-\"**"
      ],
      "metadata": {
        "id": "sx4UGqJgzOlj"
      }
    },
    {
      "cell_type": "code",
      "source": [
        "a.sub(c)"
      ],
      "metadata": {
        "colab": {
          "base_uri": "https://localhost:8080/"
        },
        "id": "hGDDh5WPzOF3",
        "outputId": "352a524d-1799-4f16-a009-5ba09cdfd2cc"
      },
      "execution_count": null,
      "outputs": [
        {
          "output_type": "execute_result",
          "data": {
            "text/plain": [
              "tensor([[ 1.4694e-39,  0.0000e+00],\n",
              "        [ 1.0000e+00,         nan],\n",
              "        [        nan,         nan],\n",
              "        [-4.4721e+21, -1.5956e+25],\n",
              "        [-4.7399e+16,  1.0000e+00]])"
            ]
          },
          "metadata": {},
          "execution_count": 19
        }
      ]
    },
    {
      "cell_type": "markdown",
      "source": [
        "**\"/\"**"
      ],
      "metadata": {
        "id": "QmodzV26zR6I"
      }
    },
    {
      "cell_type": "code",
      "source": [
        "a.div(c)"
      ],
      "metadata": {
        "colab": {
          "base_uri": "https://localhost:8080/"
        },
        "id": "VNrwJZ9zzb6U",
        "outputId": "95b87a40-9a05-48cd-89f2-50ac639eea86"
      },
      "execution_count": null,
      "outputs": [
        {
          "output_type": "execute_result",
          "data": {
            "text/plain": [
              "tensor([[1.0000e+00,        nan],\n",
              "        [       inf,        nan],\n",
              "        [       nan,        nan],\n",
              "        [2.2361e-22, 6.2671e-26],\n",
              "        [2.1097e-17, 4.2903e+08]])"
            ]
          },
          "metadata": {},
          "execution_count": 21
        }
      ]
    },
    {
      "cell_type": "markdown",
      "metadata": {
        "id": "rIaroFO6YKBT"
      },
      "source": [
        "### Задача 3"
      ]
    },
    {
      "cell_type": "markdown",
      "metadata": {
        "id": "GfLHVvKvYKBT"
      },
      "source": [
        "1). Создайте тензор *целых чисел* `images` размерности (100, 200, 200, 3) (можно интерпретировать это как 100 картинок размера 200х200 с тремя цветовыми каналами, то есть 100 цветных изображений 200х200). Заполните его нулями  "
      ]
    },
    {
      "cell_type": "code",
      "metadata": {
        "id": "pZVGHEQQYKBU",
        "colab": {
          "base_uri": "https://localhost:8080/"
        },
        "outputId": "7f80e429-8d63-4cf6-adda-8b168f4801ab"
      },
      "source": [
        "images = torch.IntTensor(100, 200, 200, 3).zero_()\n",
        "images[0]"
      ],
      "execution_count": null,
      "outputs": [
        {
          "output_type": "execute_result",
          "data": {
            "text/plain": [
              "tensor([[[0, 0, 0],\n",
              "         [0, 0, 0],\n",
              "         [0, 0, 0],\n",
              "         ...,\n",
              "         [0, 0, 0],\n",
              "         [0, 0, 0],\n",
              "         [0, 0, 0]],\n",
              "\n",
              "        [[0, 0, 0],\n",
              "         [0, 0, 0],\n",
              "         [0, 0, 0],\n",
              "         ...,\n",
              "         [0, 0, 0],\n",
              "         [0, 0, 0],\n",
              "         [0, 0, 0]],\n",
              "\n",
              "        [[0, 0, 0],\n",
              "         [0, 0, 0],\n",
              "         [0, 0, 0],\n",
              "         ...,\n",
              "         [0, 0, 0],\n",
              "         [0, 0, 0],\n",
              "         [0, 0, 0]],\n",
              "\n",
              "        ...,\n",
              "\n",
              "        [[0, 0, 0],\n",
              "         [0, 0, 0],\n",
              "         [0, 0, 0],\n",
              "         ...,\n",
              "         [0, 0, 0],\n",
              "         [0, 0, 0],\n",
              "         [0, 0, 0]],\n",
              "\n",
              "        [[0, 0, 0],\n",
              "         [0, 0, 0],\n",
              "         [0, 0, 0],\n",
              "         ...,\n",
              "         [0, 0, 0],\n",
              "         [0, 0, 0],\n",
              "         [0, 0, 0]],\n",
              "\n",
              "        [[0, 0, 0],\n",
              "         [0, 0, 0],\n",
              "         [0, 0, 0],\n",
              "         ...,\n",
              "         [0, 0, 0],\n",
              "         [0, 0, 0],\n",
              "         [0, 0, 0]]], dtype=torch.int32)"
            ]
          },
          "metadata": {},
          "execution_count": 24
        }
      ]
    },
    {
      "cell_type": "markdown",
      "source": [
        "2). Сделайте так, чтобы у $i$-ой по порядку картинки была нарисована белая полоса толщиной два пикселя в строках, которые соответствуют номеру картинки. Например, у 3-ей по порядку картинки белая полоска будет занимать 6 и 7 строки, у 99 - 198 и 199. Сделать белую строку можно, записав в ячейки тензора число 255 (по всем трём каналам). Выведите несколько примеров с помощью `pylot`  \n"
      ],
      "metadata": {
        "id": "W0npvV1ZWW5f"
      }
    },
    {
      "cell_type": "code",
      "source": [
        "new_tensor = torch.IntTensor(200, 3).zero_() # создаем тензер с размером под замену \n",
        "\n",
        "for i in range(len(images)):\n",
        "    images[i][i * 2], images[i][(i * 2) + 1] = torch.full_like(new_tensor, 255), torch.full_like(new_tensor, 255)\n"
      ],
      "metadata": {
        "id": "FsIwkZv-BH2e"
      },
      "execution_count": null,
      "outputs": []
    },
    {
      "cell_type": "code",
      "source": [
        "plt.figure(figsize=(7, 7))\n",
        "plt.imshow(images[5])"
      ],
      "metadata": {
        "colab": {
          "base_uri": "https://localhost:8080/",
          "height": 449
        },
        "id": "BfCTTWh4LuNY",
        "outputId": "c5f6faf2-5124-4af2-efea-5d71db2b4dbf"
      },
      "execution_count": null,
      "outputs": [
        {
          "output_type": "execute_result",
          "data": {
            "text/plain": [
              "<matplotlib.image.AxesImage at 0x7f4d62210fd0>"
            ]
          },
          "metadata": {},
          "execution_count": 27
        },
        {
          "output_type": "display_data",
          "data": {
            "text/plain": [
              "<Figure size 504x504 with 1 Axes>"
            ],
            "image/png": "[encoded data removed]"
          },
          "metadata": {
            "needs_background": "light"
          }
        }
      ]
    },
    {
      "cell_type": "code",
      "source": [
        "plt.figure(figsize=(7, 7))\n",
        "plt.imshow(images[50])"
      ],
      "metadata": {
        "colab": {
          "base_uri": "https://localhost:8080/",
          "height": 449
        },
        "id": "X1Ubmj8xMQTA",
        "outputId": "b6b566ca-81c1-4e3f-ed98-3644440f9060"
      },
      "execution_count": null,
      "outputs": [
        {
          "output_type": "execute_result",
          "data": {
            "text/plain": [
              "<matplotlib.image.AxesImage at 0x7f4d61cee3a0>"
            ]
          },
          "metadata": {},
          "execution_count": 28
        },
        {
          "output_type": "display_data",
          "data": {
            "text/plain": [
              "<Figure size 504x504 with 1 Axes>"
            ],
            "image/png": "[encoded data removed]"
          },
          "metadata": {
            "needs_background": "light"
          }
        }
      ]
    },
    {
      "cell_type": "code",
      "source": [
        "plt.figure(figsize=(7, 7))\n",
        "plt.imshow(images[99])"
      ],
      "metadata": {
        "colab": {
          "base_uri": "https://localhost:8080/",
          "height": 449
        },
        "id": "vcvl7KaaMckd",
        "outputId": "3108cd0d-9453-4288-e061-3ab9506f2c4b"
      },
      "execution_count": null,
      "outputs": [
        {
          "output_type": "execute_result",
          "data": {
            "text/plain": [
              "<matplotlib.image.AxesImage at 0x7f4d61cca070>"
            ]
          },
          "metadata": {},
          "execution_count": 29
        },
        {
          "output_type": "display_data",
          "data": {
            "text/plain": [
              "<Figure size 504x504 with 1 Axes>"
            ],
            "image/png": "[encoded data removed]"
          },
          "metadata": {
            "needs_background": "light"
          }
        }
      ]
    },
    {
      "cell_type": "markdown",
      "source": [
        "3). Посчитайте среднее тензора `images` по 1-ой оси (по сути - средняя картинка), умножьте полученный тензор на 70. Нарисуйте с помощью `pyplot`, должна получиться серая картинка (при взятии среднего нужно привести тензор к float с помощью `.float()`, при отрисовке обратно к int с помощью `.int()`)"
      ],
      "metadata": {
        "id": "bpTGxQL-OIYN"
      }
    },
    {
      "cell_type": "code",
      "source": [
        "img_mean_1 = images.float().mean(0)\n",
        "\n",
        "img_mul_70_int = img_mean_1.mul(70).int()"
      ],
      "metadata": {
        "id": "CRBAmXqOW26g"
      },
      "execution_count": null,
      "outputs": []
    },
    {
      "cell_type": "code",
      "source": [
        "plt.imshow(img_mul_70_int)"
      ],
      "metadata": {
        "colab": {
          "base_uri": "https://localhost:8080/",
          "height": 287
        },
        "id": "UCqWzGFoONxd",
        "outputId": "7be3f464-d183-4f9c-dd25-bd81f5f60dc3"
      },
      "execution_count": null,
      "outputs": [
        {
          "output_type": "execute_result",
          "data": {
            "text/plain": [
              "<matplotlib.image.AxesImage at 0x7f4d61c8ed90>"
            ]
          },
          "metadata": {},
          "execution_count": 31
        },
        {
          "output_type": "display_data",
          "data": {
            "text/plain": [
              "<Figure size 432x288 with 1 Axes>"
            ],
            "image/png": "[encoded data removed]"
          },
          "metadata": {
            "needs_background": "light"
          }
        }
      ]
    },
    {
      "cell_type": "markdown",
      "metadata": {
        "id": "oQnhq5ZdYKCu"
      },
      "source": [
        "### Задача 4"
      ]
    },
    {
      "cell_type": "markdown",
      "metadata": {
        "id": "UB95BhgTYKCu"
      },
      "source": [
        "- В Colab нажмите в меню сверху: `Runtime` -> `Change Runtime Type` -> `GPU`, где изначально стоит `None` (`Среда выполнение` - `Сменить среду выполнения`)\n",
        "- Объявите тензор `a` размера (2, 3, 4) и тензор `b` размера (1, 8, 3) на GPU, иницилизируйте их случайно равномерно (`.uniform_()`)\n",
        "- Затем измените форму тензора `b`, чтобы она совпадала с формой тензора `a`, получите тензор `c`  \n",
        "- Переместите `c` на CPU, переместите `a` на CPU  \n",
        "- Оберните их в `Variable()`\n",
        "- Объявите тензор `L = torch.mean((c - a) `**` 2)` и посчитайте градиент `L` по `c` ( то есть $\\frac{\\partial{L}}{\\partial{c}})$\n",
        "- Выведите градиент `L` по `c`"
      ]
    },
    {
      "cell_type": "code",
      "metadata": {
        "id": "WESOm5TCYKCv"
      },
      "source": [
        "a = torch.FloatTensor(2, 3, 4).uniform_().cuda()\n",
        "b = torch.FloatTensor(1, 8, 3).uniform_().cuda()"
      ],
      "execution_count": null,
      "outputs": []
    },
    {
      "cell_type": "code",
      "source": [
        "c = b.view(2, 3, 4)"
      ],
      "metadata": {
        "id": "-CiIsfbEQiOO"
      },
      "execution_count": null,
      "outputs": []
    },
    {
      "cell_type": "code",
      "source": [
        "c = c.cpu()\n",
        "a = a.cpu()"
      ],
      "metadata": {
        "id": "6tg8yAJEQnqL"
      },
      "execution_count": null,
      "outputs": []
    },
    {
      "cell_type": "code",
      "source": [
        "from torch.autograd import Variable"
      ],
      "metadata": {
        "id": "E94EmHXMQrnb"
      },
      "execution_count": null,
      "outputs": []
    },
    {
      "cell_type": "code",
      "source": [
        "c = Variable(c, requires_grad=True)\n",
        "a = Variable(a, requires_grad=True)"
      ],
      "metadata": {
        "id": "nPpUhUF2Q0ER"
      },
      "execution_count": null,
      "outputs": []
    },
    {
      "cell_type": "code",
      "source": [
        "L = torch.mean((c - a)**2)"
      ],
      "metadata": {
        "id": "GULan2wCQxi_"
      },
      "execution_count": null,
      "outputs": []
    },
    {
      "cell_type": "code",
      "source": [
        "L.backward()"
      ],
      "metadata": {
        "id": "KXMgHP95Q6Ul"
      },
      "execution_count": null,
      "outputs": []
    },
    {
      "cell_type": "code",
      "source": [
        "c.grad"
      ],
      "metadata": {
        "id": "fhgwiN6zYRjd",
        "outputId": "deb6f9b4-1def-48e3-f057-88b16ebc313a",
        "colab": {
          "base_uri": "https://localhost:8080/"
        }
      },
      "execution_count": null,
      "outputs": [
        {
          "output_type": "execute_result",
          "data": {
            "text/plain": [
              "tensor([[[-0.0276,  0.0032, -0.0067, -0.0505],\n",
              "         [-0.0481, -0.0393,  0.0121, -0.0388],\n",
              "         [ 0.0047, -0.0386, -0.0259,  0.0391]],\n",
              "\n",
              "        [[-0.0247, -0.0761, -0.0187,  0.0191],\n",
              "         [ 0.0582, -0.0087, -0.0044,  0.0683],\n",
              "         [-0.0025,  0.0169, -0.0621,  0.0317]]])"
            ]
          },
          "metadata": {},
          "execution_count": 39
        }
      ]
    }
  ]
}