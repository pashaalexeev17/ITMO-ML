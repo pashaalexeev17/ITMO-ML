{
  "nbformat": 4,
  "nbformat_minor": 0,
  "metadata": {
    "colab": {
      "provenance": []
    },
    "kernelspec": {
      "name": "python3",
      "display_name": "Python 3"
    }
  },
  "cells": [
    {
      "cell_type": "markdown",
      "metadata": {
        "id": "hGClrhQA9SAk"
      },
      "source": [
        "# Деревья решений"
      ]
    },
    {
      "cell_type": "markdown",
      "metadata": {
        "id": "veekMy8WRjBi"
      },
      "source": [
        "## Построение дерева"
      ]
    },
    {
      "cell_type": "markdown",
      "metadata": {
        "id": "SYkVwAFiUHXj"
      },
      "source": [
        "Опишем жадный алгоритм построения бинарного дерева решений:\n",
        "1. Начинаем со всей обучающей выборки $X$, которую помещаем в корень $R_1$. \n",
        "2. Задаём функционал качества $Q(X, j, t)$ и критерий остановки. \n",
        "3. Запускаем построение из корня: $SplitNode(1, R_1)$\n",
        "\n",
        "Функция $SplitNode(m, R_m)$\n",
        "1. Если выполнен критерий остановки, то выход.\n",
        "2. Находим наилучший с точки зрения $Q$ предикат: $j, t$: $[x_j<t]$\n",
        "3. Помещаем предикат в вкршину и получаем с его помощью разбиение $X$ на две части: $R_{left} = \\lbrace x|x_j<t \\rbrace$ и $R_{right} = \\lbrace x|x_j \\geqslant t \\rbrace$\n",
        "4. Поместим $R_{left}$ и $R_{right}$ соответсвенно в левое и правое поддерево.\n",
        "5. Рекурсивно повторяем $SplitNode(left, R_{left})$ и $SplitNode(right, R_{right})$.\n",
        "\n",
        "В конце поставим в соответствие каждому листу ответ. Для задачи классификации - это самый частый среди объектов класс или вектор с долями классов (можно интерпретировать как вероятности):\n",
        "$$ c_v = \\arg \\max_{k\\in Y} \\sum_{(x_i,y_i) \\in R_v} [y_i=k]  $$"
      ]
    },
    {
      "cell_type": "markdown",
      "metadata": {
        "id": "9P6FsdBog4Ai"
      },
      "source": [
        "## Функционал качества для деревьев решений\n"
      ]
    },
    {
      "cell_type": "markdown",
      "metadata": {
        "id": "9VAKO0aykGBD"
      },
      "source": [
        "Энтропия Шеннона для системы с N возможными состояниями определяется по формуле:\n",
        "$$H = - \\sum_{i=0}^{N} p_i\\log_2p_i $$"
      ]
    },
    {
      "cell_type": "markdown",
      "metadata": {
        "id": "5582B-1Fn2bw"
      },
      "source": [
        "где $p_i$ – вероятности нахождения системы в $i$-ом состоянии. \n",
        "\n",
        "Это очень важное понятие теории информации, которое позволяет оценить количество информации (степень хаоса в системе). Чем выше энтропия, тем менее упорядочена система и наоборот. С помощью энтропии мы формализуем функционал качества для разделение выборки (для задачи классификации)."
      ]
    },
    {
      "cell_type": "code",
      "metadata": {
        "id": "PbcMUd7bvk05"
      },
      "source": [
        "import numpy as np\n",
        "import pandas as pd\n",
        "\n",
        "import matplotlib.pyplot as plt\n",
        "\n",
        "import random\n",
        "from pprint import pprint"
      ],
      "execution_count": null,
      "outputs": []
    },
    {
      "cell_type": "markdown",
      "metadata": {
        "id": "4AdLxP9CowTm"
      },
      "source": [
        "Код для расчёта энтропии:"
      ]
    },
    {
      "cell_type": "code",
      "metadata": {
        "id": "2mT8Jq8Av2sM"
      },
      "source": [
        "def entropy(data):\n",
        "    \n",
        "    y = data[:, -1]\n",
        "    _, counts = np.unique(y, return_counts=True)\n",
        "\n",
        "    probabilities = counts / counts.sum()\n",
        "    entropy = sum(probabilities * -np.log2(probabilities))\n",
        "     \n",
        "    return entropy"
      ],
      "execution_count": null,
      "outputs": []
    },
    {
      "cell_type": "markdown",
      "metadata": {
        "id": "Xk9etb2vo7fK"
      },
      "source": [
        "Здесь $y$ - это массив значений целевой переменной"
      ]
    },
    {
      "cell_type": "markdown",
      "metadata": {
        "id": "07TCw0USzLus"
      },
      "source": [
        "Энтропия – по сути степень хаоса (или неопределенности) в системе. Уменьшение энтропии называют приростом информации (information gain, IG).\n",
        "\n",
        "Обочначим $R_v$ - объекты, которые нужно разделить в помощью предиката в вершине $v$. Запишем формулу для расчёта информационного прироста:\n",
        "$$ Q = IG = H(R_v) - (H(R_{left})+H(R_{right}))$$\n",
        "\n",
        "На каждом шаге нам нужно максимизировать этот функционал качества. Как это делать? Например, так можно перебрать $t$ для выбранного $j$."
      ]
    },
    {
      "cell_type": "markdown",
      "metadata": {
        "id": "trEWHDoXg_p9"
      },
      "source": [
        "Предыдущая версия формулы прироста информации слишком упрощена. В работе необходимо использовать более устойчивую формулу, которая учитывает не только энтропию подмножеств, но и их размер. \n",
        "\n",
        "$$ Q = IG = H(R_v) - \\Big (\\frac{|R_{left}|} {|R_{v}|} H(R_{left})+ \\frac{|R_{right}|} {|R_{v}|} H(R_{right})\\Big)$$\n",
        "\n",
        "где, $|R_{v}|$, $|R_{left}|$ и $|R_{right}|$ - количество элементов в соответствующих множествах."
      ]
    },
    {
      "cell_type": "markdown",
      "metadata": {
        "id": "9xmN6V_N1xBr"
      },
      "source": [
        "\n",
        "### Задание 4.1"
      ]
    },
    {
      "cell_type": "markdown",
      "metadata": {
        "id": "nWFHZScF2CBF"
      },
      "source": [
        "Реализуйте алгоритм построения дерева. Должны быть отдельные функции (методы) для расчёта энтропии (уже есть), для разделения дерева (используйте `pandas`), для подсчёта функционала качества $IG$, для выбора наилучшего разделения (с учетом признакоd и порогов), для проверки критерия остановки.\n",
        "\n",
        "Для набора данных `iris` реализуйте алгоритм и минимум три из разными критерия остановки из перечисленных ниже:\n",
        "* максимальной глубины дерева = 5\n",
        "* минимального числа объектов в листе = 5\n",
        "* максимальное количество листьев в дереве = 5\n",
        "* purity (остановка, если все объекты в листе относятся к одному классу)\n",
        "\n",
        "Реализуйте функцию `predict` (на вход функции подаётся датафрейм с объектами)\n",
        "\n",
        "Оцените точность каждой модели с помощью метрики доля правильных ответов (`from sklearn.metrics import accuracy_score` или реализовать свою)."
      ]
    },
    {
      "cell_type": "code",
      "source": [
        "from sklearn.model_selection import train_test_split\n",
        "import pandas as pd\n",
        "import numpy as np\n",
        "\n",
        "from pprint import pprint\n",
        "import random\n",
        "from sklearn.metrics import accuracy_score"
      ],
      "metadata": {
        "id": "XNJp6oWo9MSK"
      },
      "execution_count": null,
      "outputs": []
    },
    {
      "cell_type": "code",
      "source": [
        "df = pd.read_csv('Iris 2.csv', index_col = 'Id')\n",
        "\n",
        "train_df, test_df = train_test_split(df, train_size=100, random_state=42)\n",
        "df"
      ],
      "metadata": {
        "id": "tbO6JTXpPHuu",
        "colab": {
          "base_uri": "https://localhost:8080/",
          "height": 455
        },
        "outputId": "82ff3723-02ec-4212-c2ef-38e85c949f5a"
      },
      "execution_count": null,
      "outputs": [
        {
          "output_type": "execute_result",
          "data": {
            "text/plain": [
              "     SepalLengthCm  SepalWidthCm  PetalLengthCm  PetalWidthCm         Species\n",
              "Id                                                                           \n",
              "1              5.1           3.5            1.4           0.2     Iris-setosa\n",
              "2              4.9           3.0            1.4           0.2     Iris-setosa\n",
              "3              4.7           3.2            1.3           0.2     Iris-setosa\n",
              "4              4.6           3.1            1.5           0.2     Iris-setosa\n",
              "5              5.0           3.6            1.4           0.2     Iris-setosa\n",
              "..             ...           ...            ...           ...             ...\n",
              "146            6.7           3.0            5.2           2.3  Iris-virginica\n",
              "147            6.3           2.5            5.0           1.9  Iris-virginica\n",
              "148            6.5           3.0            5.2           2.0  Iris-virginica\n",
              "149            6.2           3.4            5.4           2.3  Iris-virginica\n",
              "150            5.9           3.0            5.1           1.8  Iris-virginica\n",
              "\n",
              "[150 rows x 5 columns]"
            ],
            "text/html": [
              "\n",
              "  <div id=\"df-ce04dec2-f9dd-49ac-8356-10beab82ee63\">\n",
              "    <div class=\"colab-df-container\">\n",
              "      <div>\n",
              "<style scoped>\n",
              "    .dataframe tbody tr th:only-of-type {\n",
              "        vertical-align: middle;\n",
              "    }\n",
              "\n",
              "    .dataframe tbody tr th {\n",
              "        vertical-align: top;\n",
              "    }\n",
              "\n",
              "    .dataframe thead th {\n",
              "        text-align: right;\n",
              "    }\n",
              "</style>\n",
              "<table border=\"1\" class=\"dataframe\">\n",
              "  <thead>\n",
              "    <tr style=\"text-align: right;\">\n",
              "      <th></th>\n",
              "      <th>SepalLengthCm</th>\n",
              "      <th>SepalWidthCm</th>\n",
              "      <th>PetalLengthCm</th>\n",
              "      <th>PetalWidthCm</th>\n",
              "      <th>Species</th>\n",
              "    </tr>\n",
              "    <tr>\n",
              "      <th>Id</th>\n",
              "      <th></th>\n",
              "      <th></th>\n",
              "      <th></th>\n",
              "      <th></th>\n",
              "      <th></th>\n",
              "    </tr>\n",
              "  </thead>\n",
              "  <tbody>\n",
              "    <tr>\n",
              "      <th>1</th>\n",
              "      <td>5.1</td>\n",
              "      <td>3.5</td>\n",
              "      <td>1.4</td>\n",
              "      <td>0.2</td>\n",
              "      <td>Iris-setosa</td>\n",
              "    </tr>\n",
              "    <tr>\n",
              "      <th>2</th>\n",
              "      <td>4.9</td>\n",
              "      <td>3.0</td>\n",
              "      <td>1.4</td>\n",
              "      <td>0.2</td>\n",
              "      <td>Iris-setosa</td>\n",
              "    </tr>\n",
              "    <tr>\n",
              "      <th>3</th>\n",
              "      <td>4.7</td>\n",
              "      <td>3.2</td>\n",
              "      <td>1.3</td>\n",
              "      <td>0.2</td>\n",
              "      <td>Iris-setosa</td>\n",
              "    </tr>\n",
              "    <tr>\n",
              "      <th>4</th>\n",
              "      <td>4.6</td>\n",
              "      <td>3.1</td>\n",
              "      <td>1.5</td>\n",
              "      <td>0.2</td>\n",
              "      <td>Iris-setosa</td>\n",
              "    </tr>\n",
              "    <tr>\n",
              "      <th>5</th>\n",
              "      <td>5.0</td>\n",
              "      <td>3.6</td>\n",
              "      <td>1.4</td>\n",
              "      <td>0.2</td>\n",
              "      <td>Iris-setosa</td>\n",
              "    </tr>\n",
              "    <tr>\n",
              "      <th>...</th>\n",
              "      <td>...</td>\n",
              "      <td>...</td>\n",
              "      <td>...</td>\n",
              "      <td>...</td>\n",
              "      <td>...</td>\n",
              "    </tr>\n",
              "    <tr>\n",
              "      <th>146</th>\n",
              "      <td>6.7</td>\n",
              "      <td>3.0</td>\n",
              "      <td>5.2</td>\n",
              "      <td>2.3</td>\n",
              "      <td>Iris-virginica</td>\n",
              "    </tr>\n",
              "    <tr>\n",
              "      <th>147</th>\n",
              "      <td>6.3</td>\n",
              "      <td>2.5</td>\n",
              "      <td>5.0</td>\n",
              "      <td>1.9</td>\n",
              "      <td>Iris-virginica</td>\n",
              "    </tr>\n",
              "    <tr>\n",
              "      <th>148</th>\n",
              "      <td>6.5</td>\n",
              "      <td>3.0</td>\n",
              "      <td>5.2</td>\n",
              "      <td>2.0</td>\n",
              "      <td>Iris-virginica</td>\n",
              "    </tr>\n",
              "    <tr>\n",
              "      <th>149</th>\n",
              "      <td>6.2</td>\n",
              "      <td>3.4</td>\n",
              "      <td>5.4</td>\n",
              "      <td>2.3</td>\n",
              "      <td>Iris-virginica</td>\n",
              "    </tr>\n",
              "    <tr>\n",
              "      <th>150</th>\n",
              "      <td>5.9</td>\n",
              "      <td>3.0</td>\n",
              "      <td>5.1</td>\n",
              "      <td>1.8</td>\n",
              "      <td>Iris-virginica</td>\n",
              "    </tr>\n",
              "  </tbody>\n",
              "</table>\n",
              "<p>150 rows × 5 columns</p>\n",
              "</div>\n",
              "      <button class=\"colab-df-convert\" onclick=\"convertToInteractive('df-ce04dec2-f9dd-49ac-8356-10beab82ee63')\"\n",
              "              title=\"Convert this dataframe to an interactive table.\"\n",
              "              style=\"display:none;\">\n",
              "        \n",
              "  <svg xmlns=\"http://www.w3.org/2000/svg\" height=\"24px\"viewBox=\"0 0 24 24\"\n",
              "       width=\"24px\">\n",
              "    <path d=\"M0 0h24v24H0V0z\" fill=\"none\"/>\n",
              "    <path d=\"M18.56 5.44l.94 2.06.94-2.06 2.06-.94-2.06-.94-.94-2.06-.94 2.06-2.06.94zm-11 1L8.5 8.5l.94-2.06 2.06-.94-2.06-.94L8.5 2.5l-.94 2.06-2.06.94zm10 10l.94 2.06.94-2.06 2.06-.94-2.06-.94-.94-2.06-.94 2.06-2.06.94z\"/><path d=\"M17.41 7.96l-1.37-1.37c-.4-.4-.92-.59-1.43-.59-.52 0-1.04.2-1.43.59L10.3 9.45l-7.72 7.72c-.78.78-.78 2.05 0 2.83L4 21.41c.39.39.9.59 1.41.59.51 0 1.02-.2 1.41-.59l7.78-7.78 2.81-2.81c.8-.78.8-2.07 0-2.86zM5.41 20L4 18.59l7.72-7.72 1.47 1.35L5.41 20z\"/>\n",
              "  </svg>\n",
              "      </button>\n",
              "      \n",
              "  <style>\n",
              "    .colab-df-container {\n",
              "      display:flex;\n",
              "      flex-wrap:wrap;\n",
              "      gap: 12px;\n",
              "    }\n",
              "\n",
              "    .colab-df-convert {\n",
              "      background-color: #E8F0FE;\n",
              "      border: none;\n",
              "      border-radius: 50%;\n",
              "      cursor: pointer;\n",
              "      display: none;\n",
              "      fill: #1967D2;\n",
              "      height: 32px;\n",
              "      padding: 0 0 0 0;\n",
              "      width: 32px;\n",
              "    }\n",
              "\n",
              "    .colab-df-convert:hover {\n",
              "      background-color: #E2EBFA;\n",
              "      box-shadow: 0px 1px 2px rgba(60, 64, 67, 0.3), 0px 1px 3px 1px rgba(60, 64, 67, 0.15);\n",
              "      fill: #174EA6;\n",
              "    }\n",
              "\n",
              "    [theme=dark] .colab-df-convert {\n",
              "      background-color: #3B4455;\n",
              "      fill: #D2E3FC;\n",
              "    }\n",
              "\n",
              "    [theme=dark] .colab-df-convert:hover {\n",
              "      background-color: #434B5C;\n",
              "      box-shadow: 0px 1px 3px 1px rgba(0, 0, 0, 0.15);\n",
              "      filter: drop-shadow(0px 1px 2px rgba(0, 0, 0, 0.3));\n",
              "      fill: #FFFFFF;\n",
              "    }\n",
              "  </style>\n",
              "\n",
              "      <script>\n",
              "        const buttonEl =\n",
              "          document.querySelector('#df-ce04dec2-f9dd-49ac-8356-10beab82ee63 button.colab-df-convert');\n",
              "        buttonEl.style.display =\n",
              "          google.colab.kernel.accessAllowed ? 'block' : 'none';\n",
              "\n",
              "        async function convertToInteractive(key) {\n",
              "          const element = document.querySelector('#df-ce04dec2-f9dd-49ac-8356-10beab82ee63');\n",
              "          const dataTable =\n",
              "            await google.colab.kernel.invokeFunction('convertToInteractive',\n",
              "                                                     [key], {});\n",
              "          if (!dataTable) return;\n",
              "\n",
              "          const docLinkHtml = 'Like what you see? Visit the ' +\n",
              "            '<a target=\"_blank\" href=https://colab.research.google.com/notebooks/data_table.ipynb>data table notebook</a>'\n",
              "            + ' to learn more about interactive tables.';\n",
              "          element.innerHTML = '';\n",
              "          dataTable['output_type'] = 'display_data';\n",
              "          await google.colab.output.renderOutput(dataTable, element);\n",
              "          const docLink = document.createElement('div');\n",
              "          docLink.innerHTML = docLinkHtml;\n",
              "          element.appendChild(docLink);\n",
              "        }\n",
              "      </script>\n",
              "    </div>\n",
              "  </div>\n",
              "  "
            ]
          },
          "metadata": {},
          "execution_count": 5
        }
      ]
    },
    {
      "cell_type": "code",
      "source": [
        "data = train_df.values\n"
      ],
      "metadata": {
        "id": "VddFvWb7PMVJ",
        "colab": {
          "base_uri": "https://localhost:8080/"
        },
        "outputId": "26975877-2430-4376-b6ca-14fe07353583"
      },
      "execution_count": null,
      "outputs": [
        {
          "output_type": "execute_result",
          "data": {
            "text/plain": [
              "array(['Iris-versicolor', 'Iris-virginica', 'Iris-versicolor',\n",
              "       'Iris-setosa', 'Iris-virginica', 'Iris-versicolor', 'Iris-setosa',\n",
              "       'Iris-setosa', 'Iris-setosa', 'Iris-versicolor', 'Iris-virginica',\n",
              "       'Iris-setosa', 'Iris-setosa', 'Iris-setosa', 'Iris-versicolor',\n",
              "       'Iris-setosa', 'Iris-versicolor', 'Iris-virginica', 'Iris-setosa',\n",
              "       'Iris-versicolor', 'Iris-virginica', 'Iris-setosa',\n",
              "       'Iris-virginica', 'Iris-virginica', 'Iris-versicolor',\n",
              "       'Iris-versicolor', 'Iris-virginica', 'Iris-versicolor',\n",
              "       'Iris-setosa', 'Iris-versicolor', 'Iris-virginica', 'Iris-setosa',\n",
              "       'Iris-setosa', 'Iris-versicolor', 'Iris-versicolor', 'Iris-setosa',\n",
              "       'Iris-virginica', 'Iris-setosa', 'Iris-setosa', 'Iris-versicolor',\n",
              "       'Iris-versicolor', 'Iris-virginica', 'Iris-versicolor',\n",
              "       'Iris-virginica', 'Iris-virginica', 'Iris-versicolor',\n",
              "       'Iris-setosa', 'Iris-setosa', 'Iris-virginica', 'Iris-virginica',\n",
              "       'Iris-setosa', 'Iris-setosa', 'Iris-setosa', 'Iris-versicolor',\n",
              "       'Iris-virginica', 'Iris-setosa', 'Iris-virginica',\n",
              "       'Iris-virginica', 'Iris-setosa', 'Iris-versicolor',\n",
              "       'Iris-versicolor', 'Iris-virginica', 'Iris-versicolor',\n",
              "       'Iris-virginica', 'Iris-setosa', 'Iris-virginica',\n",
              "       'Iris-versicolor', 'Iris-virginica', 'Iris-versicolor',\n",
              "       'Iris-versicolor', 'Iris-versicolor', 'Iris-setosa',\n",
              "       'Iris-versicolor', 'Iris-versicolor', 'Iris-setosa',\n",
              "       'Iris-versicolor', 'Iris-virginica', 'Iris-virginica',\n",
              "       'Iris-setosa', 'Iris-versicolor', 'Iris-virginica',\n",
              "       'Iris-virginica', 'Iris-setosa', 'Iris-virginica', 'Iris-setosa',\n",
              "       'Iris-versicolor', 'Iris-virginica', 'Iris-virginica',\n",
              "       'Iris-versicolor', 'Iris-virginica', 'Iris-versicolor',\n",
              "       'Iris-versicolor', 'Iris-virginica', 'Iris-virginica',\n",
              "       'Iris-setosa', 'Iris-versicolor', 'Iris-virginica', 'Iris-setosa',\n",
              "       'Iris-versicolor', 'Iris-virginica'], dtype=object)"
            ]
          },
          "metadata": {},
          "execution_count": 9
        }
      ]
    },
    {
      "cell_type": "code",
      "source": [
        "def check_purity(data): # возвращает True, если в разбиение все данные относятся к одному классу\n",
        "\n",
        "    y = data[:, -1]\n",
        "    unique_classes = np.unique(y)\n",
        "\n",
        "    if len(unique_classes) == 1:\n",
        "        \n",
        "        return True\n",
        "    \n",
        "    else:\n",
        "\n",
        "        return False"
      ],
      "metadata": {
        "id": "pP-PTsy-ft6s"
      },
      "execution_count": null,
      "outputs": []
    },
    {
      "cell_type": "code",
      "source": [
        "def classify_data(data): # возвращает класс, которому принадлежат данные \n",
        "\n",
        "    y = data[:, -1]\n",
        "    unique_classes, counts_unique_classes = np.unique(y, return_counts = True)\n",
        "\n",
        "    index = counts_unique_classes.argmax()\n",
        "    classification = unique_classes[index]\n",
        "\n",
        "    return classification"
      ],
      "metadata": {
        "id": "hx4Hpk-SghEr"
      },
      "execution_count": null,
      "outputs": []
    },
    {
      "cell_type": "code",
      "source": [
        "def get_potential_splits(data): # возвращает словарь, где ключ - это номер колонки, а значени это массив из вариантов возможных и уникальных значений для разбиния\n",
        "    \n",
        "    potential_splits = {}\n",
        "    n_columns = data.shape[1]\n",
        "\n",
        "    for column_index in range(n_columns - 1): # отбросили y\n",
        "\n",
        "        values = data[:, column_index]\n",
        "        unique_values = np.unique(values)\n",
        "\n",
        "        potential_splits[column_index] = unique_values\n",
        "    \n",
        "    return potential_splits"
      ],
      "metadata": {
        "id": "OoHlz40igoFa"
      },
      "execution_count": null,
      "outputs": []
    },
    {
      "cell_type": "code",
      "source": [
        "def split_data(data, split_column, split_value): # разделяет массив значений на 2, которые возвращают значения больше и меньше заданного для разбиения\n",
        "\n",
        "    split_column_values = data[:, split_column] \n",
        "\n",
        "    data_below = data[split_column_values <= split_value]\n",
        "    \n",
        "    data_above = data[split_column_values > split_value]\n",
        "\n",
        "    return data_below, data_above"
      ],
      "metadata": {
        "id": "DAK0BoFNhEfW"
      },
      "execution_count": null,
      "outputs": []
    },
    {
      "cell_type": "code",
      "source": [
        "def all_entropy(data, data_below, data_above): # считаем общую энтропию\n",
        "\n",
        "    n_data_points = len(data)\n",
        "\n",
        "    p_data_below = len(data_below) / n_data_points\n",
        "    p_data_above = len(data_above) / n_data_points\n",
        "\n",
        "    all_entropy = (p_data_below * entropy(data_below) + p_data_above * entropy(data_above))\n",
        "\n",
        "    return all_entropy"
      ],
      "metadata": {
        "id": "dwXvW84GhIVv"
      },
      "execution_count": null,
      "outputs": []
    },
    {
      "cell_type": "code",
      "source": [
        "def determine_best_split(data, potential_splits): # возвращает лучшее значение для разделения, а также название фичи\n",
        "    \n",
        "    overall_entropy = 10000\n",
        "\n",
        "    for column_index in potential_splits:\n",
        "        for value in potential_splits[column_index]:\n",
        "            data_below, data_above = split_data(data, split_column=column_index, split_value=value)\n",
        "            current_overall_entropy = all_entropy(data, data_below, data_above)\n",
        "\n",
        "            if current_overall_entropy <= overall_entropy:\n",
        "                overall_entropy = current_overall_entropy\n",
        "                best_split_column = column_index\n",
        "                best_split_value = value\n",
        "    \n",
        "    return best_split_column, best_split_value"
      ],
      "metadata": {
        "id": "ECAbsik2hg4C"
      },
      "execution_count": null,
      "outputs": []
    },
    {
      "cell_type": "code",
      "source": [
        "def decision_tree_algorithm(df, counter=0, min_samples=1, max_depth=100):\n",
        "    \n",
        "    # обработка данных\n",
        "    if counter == 0: \n",
        "\n",
        "        global COLUMN_HEADERS\n",
        "        COLUMN_HEADERS = df.columns\n",
        "        data = df.values\n",
        "\n",
        "    else:\n",
        "\n",
        "        data = df           \n",
        "    \n",
        "    \n",
        "    # остановливает рекурсию, а также возвращает нужный класс для заданных данных\n",
        "\n",
        "    if (check_purity(data)) or (len(data) < min_samples) or (counter == max_depth):\n",
        "        \n",
        "        classification = classify_data(data)\n",
        "        \n",
        "        return classification\n",
        "\n",
        "    else:\n",
        "\n",
        "        counter += 1\n",
        " \n",
        "        potential_splits = get_potential_splits(data)\n",
        "        split_column, split_value = determine_best_split(data, potential_splits)\n",
        "        data_below, data_above = split_data(data, split_column, split_value)\n",
        "        \n",
        "        if len(data_below) == 0 or len(data_above) == 0:\n",
        "            classification = classify_data(data)\n",
        "            return classification\n",
        "        \n",
        "\n",
        "        feature_name = COLUMN_HEADERS[split_column]\n",
        "        \n",
        "        question = \"{} <= {}\".format(feature_name, split_value)\n",
        "        sub_tree = {question: []}\n",
        "        \n",
        "        yes_answer = decision_tree_algorithm(data_below, counter, min_samples, max_depth)\n",
        "        no_answer = decision_tree_algorithm(data_above, counter, min_samples, max_depth)\n",
        "        \n",
        "       ##  проверка на то, чтобы у sub_tree были разные значения для ответа\n",
        "\n",
        "        if yes_answer == no_answer:\n",
        "\n",
        "            sub_tree = yes_answer\n",
        "\n",
        "        else:\n",
        "\n",
        "            sub_tree[question].append(yes_answer)\n",
        "            sub_tree[question].append(no_answer)\n",
        "        \n",
        "        return sub_tree"
      ],
      "metadata": {
        "id": "7CoDNZSC9x4S"
      },
      "execution_count": null,
      "outputs": []
    },
    {
      "cell_type": "code",
      "source": [
        "def predict(test, tree):\n",
        "\n",
        "    question = list(tree.keys())[0]\n",
        "    feature_name, comparison_operator, value = question.split()\n",
        "\n",
        "    if test[feature_name] <= float(value):\n",
        "\n",
        "        answer = tree[question][0]\n",
        "\n",
        "    else:\n",
        "\n",
        "        answer = tree[question][1]\n",
        "\n",
        "    if not isinstance(answer, dict): # если ответ не словарь, то возвращаем ответ\n",
        "    \n",
        "        return answer\n",
        "    \n",
        "    else:\n",
        "\n",
        "        next_tree = answer\n",
        "\n",
        "        return predict(test, next_tree)"
      ],
      "metadata": {
        "id": "Z3SlvC5v9z_p"
      },
      "execution_count": null,
      "outputs": []
    },
    {
      "cell_type": "code",
      "source": [
        "def decision_tree_predictions(df, tree):\n",
        "\n",
        "    predictions = df.apply(predict, args=(tree,), axis=1)\n",
        "    \n",
        "    return predictions"
      ],
      "metadata": {
        "id": "ggzO552vGf9h"
      },
      "execution_count": null,
      "outputs": []
    },
    {
      "cell_type": "code",
      "source": [
        "def accuracy_DR(df, tree):\n",
        "\n",
        "    df[\"classification\"] = decision_tree_predictions(df, tree)\n",
        "    df[\"classification_correct\"] = df[\"classification\"] == df[\"Species\"]\n",
        "    \n",
        "    accuracy = df[\"classification_correct\"].mean()\n",
        "    \n",
        "    return accuracy"
      ],
      "metadata": {
        "id": "fBMUWbZl921O"
      },
      "execution_count": null,
      "outputs": []
    },
    {
      "cell_type": "code",
      "source": [
        "tree_purity = decision_tree_algorithm(train_df)\n",
        "pprint(tree_purity)"
      ],
      "metadata": {
        "colab": {
          "base_uri": "https://localhost:8080/"
        },
        "id": "tL62jCD994SO",
        "outputId": "d394bbeb-8111-41a0-d5be-1e53960ced20"
      },
      "execution_count": null,
      "outputs": [
        {
          "output_type": "stream",
          "name": "stdout",
          "text": [
            "{'PetalWidthCm <= 0.6': ['Iris-setosa',\n",
            "                         {'PetalWidthCm <= 1.7': [{'PetalLengthCm <= 5.1': [{'PetalWidthCm <= 1.4': ['Iris-versicolor',\n",
            "                                                                                                     {'SepalWidthCm <= 2.5': [{'SepalLengthCm <= 6.0': ['Iris-virginica',\n",
            "                                                                                                                                                        'Iris-versicolor']},\n",
            "                                                                                                                              'Iris-versicolor']}]},\n",
            "                                                                            'Iris-virginica']},\n",
            "                                                  {'PetalLengthCm <= 4.8': [{'SepalWidthCm <= 3.0': ['Iris-virginica',\n",
            "                                                                                                     'Iris-versicolor']},\n",
            "                                                                            'Iris-virginica']}]}]}\n"
          ]
        }
      ]
    },
    {
      "cell_type": "code",
      "source": [
        "tree_depth = decision_tree_algorithm(train_df, max_depth = 5)\n",
        "pprint(tree_depth)"
      ],
      "metadata": {
        "colab": {
          "base_uri": "https://localhost:8080/"
        },
        "id": "RNuqq1ue94-H",
        "outputId": "bd0f80f0-2e3a-49cb-9039-8446869b2552"
      },
      "execution_count": null,
      "outputs": [
        {
          "output_type": "stream",
          "name": "stdout",
          "text": [
            "{'PetalWidthCm <= 0.6': ['Iris-setosa',\n",
            "                         {'PetalWidthCm <= 1.7': [{'PetalLengthCm <= 5.1': [{'PetalWidthCm <= 1.4': ['Iris-versicolor',\n",
            "                                                                                                     {'SepalWidthCm <= 2.5': ['Iris-virginica',\n",
            "                                                                                                                              'Iris-versicolor']}]},\n",
            "                                                                            'Iris-virginica']},\n",
            "                                                  {'PetalLengthCm <= 4.8': [{'SepalWidthCm <= 3.0': ['Iris-virginica',\n",
            "                                                                                                     'Iris-versicolor']},\n",
            "                                                                            'Iris-virginica']}]}]}\n"
          ]
        }
      ]
    },
    {
      "cell_type": "code",
      "source": [
        "tree_samples = decision_tree_algorithm(train_df, min_samples = 5)\n",
        "pprint(tree_samples)"
      ],
      "metadata": {
        "colab": {
          "base_uri": "https://localhost:8080/"
        },
        "id": "7BQzen8b97o-",
        "outputId": "77bd43f6-d0e1-4aba-ee40-a146a169f359"
      },
      "execution_count": null,
      "outputs": [
        {
          "output_type": "stream",
          "name": "stdout",
          "text": [
            "{'PetalWidthCm <= 0.6': ['Iris-setosa',\n",
            "                         {'PetalWidthCm <= 1.7': [{'PetalLengthCm <= 5.1': [{'PetalWidthCm <= 1.4': ['Iris-versicolor',\n",
            "                                                                                                     {'SepalWidthCm <= 2.5': ['Iris-virginica',\n",
            "                                                                                                                              'Iris-versicolor']}]},\n",
            "                                                                            'Iris-virginica']},\n",
            "                                                  'Iris-virginica']}]}\n"
          ]
        }
      ]
    },
    {
      "cell_type": "code",
      "source": [
        "accuracy_p = accuracy_DR(test_df, tree_purity)\n",
        "print('Accuracy for purity: '+ str(accuracy_p))\n",
        "\n",
        "accuracy_d = accuracy_DR(test_df, tree_depth)\n",
        "print('Accuracy for depth: ' + str(accuracy_d))\n",
        "\n",
        "accuracy_s = accuracy_DR(test_df, tree_samples)\n",
        "print('Accuracy for samples: ' + str(accuracy_s))"
      ],
      "metadata": {
        "colab": {
          "base_uri": "https://localhost:8080/"
        },
        "id": "RN-xFZlC98rZ",
        "outputId": "ea628766-4f27-4f47-ece6-365d01d5d433"
      },
      "execution_count": null,
      "outputs": [
        {
          "output_type": "stream",
          "name": "stdout",
          "text": [
            "Accuracy for purity: 0.98\n",
            "Accuracy for depth: 0.96\n",
            "Accuracy for samples: 0.96\n"
          ]
        }
      ]
    },
    {
      "cell_type": "markdown",
      "metadata": {
        "id": "BkyCjLcy_CTM"
      },
      "source": [
        "##  Случайный лес"
      ]
    },
    {
      "cell_type": "markdown",
      "metadata": {
        "id": "7fKZe1FyRgCa"
      },
      "source": [
        "Опишем алгоритм случайный лес (*random forest*) и попутно разберём основные идеи:\n",
        "\n",
        "1. Зададим $N$ - число деревьев в лесу.\n",
        "2. Для каждого $n$ из $N$ сгенерируем свою выборку $X_n$. Пусть $m$ - это количество объектов в $X$. При генерации каждой $X_n$ мы будем брать объекты $m$ раз с возвращением. То есть один и тот же объект может попасть в выборку несколько раз, а какие-то объекты не попадут. (Этот способ назвается бутстрап).\n",
        "3. По каждой $X_n$ построим решающее дерево $b_n$. Обычно стараются делать глубокие деревья. В качестве критериев остановки можно использовать `max_depth` или `min_samples_leaf` (например, пока в каждом листе не окажется по одному объекту). При каждом разбиении сначала выбирается $k$ (эвристика $k = \\sqrt d$, где $d$ - это число признаков объектов из выборки $X$) случайных признаков из исходных, и оптимальное разделение выборки ищется только среди них. Обратите внимание, что мы не выбрасываем оставшиеся признаки!\n",
        "4. Итоговый алгоритм будет представлять собой результат голосования (для классификации) и среднее арифметическое (для регрессии). Модификация алгоритма предполагает учёт весов каждого отдельного слабого алгоритма в ансамбле, но в этом особо нет смысла.\n"
      ]
    },
    {
      "cell_type": "markdown",
      "metadata": {
        "id": "YJBQ8lc0WyrN"
      },
      "source": [
        "### Задание 4.2"
      ]
    },
    {
      "cell_type": "markdown",
      "metadata": {
        "id": "y594Jn04ZTCm"
      },
      "source": [
        "В качестве набора данных используйте: https://www.kaggle.com/mathchi/churn-for-bank-customers\n",
        "\n",
        "Там есть описание и примеры работы с этими данными. Если кратко, речь идёт про задачу прогнозирования оттока клиентов. Есть данные о 10 тысячах клиентов банка, часть из которых больше не являются клиентами."
      ]
    },
    {
      "cell_type": "markdown",
      "metadata": {
        "id": "be_mLbdVW2oG"
      },
      "source": [
        "Используя либо свою реализацию, либо  `DecisionTreeClassifier` с разными настройками из `sklearn.tree` реализйте алгоритм \"случайный лес\". \n",
        "\n",
        "Найдите наилучшие гиперпараметры этого алгоритма: количество деревьев, критерий остановки, функционал качества, минимальное количество объектов в листьях и другие.\n",
        "\n",
        "Нельзя использовать готовую реализацию случайного леса из `sklearn`.\n",
        "\n",
        "В подобных задачах очень важна интерпретируемость алгоритма. Попытайтесь оценить информативность признаков, т.е. ответить а вопрос, значения каких признаков являются самыми важными индикаторами того, что банк потеряет клиента."
      ]
    },
    {
      "cell_type": "code",
      "source": [
        "from sklearn.preprocessing import OneHotEncoder"
      ],
      "metadata": {
        "id": "S5KqviUGaJir"
      },
      "execution_count": null,
      "outputs": []
    },
    {
      "cell_type": "code",
      "source": [
        "df = pd.read_csv('churn.csv')\n",
        "y = df['Exited']"
      ],
      "metadata": {
        "id": "IagA6yRtaNRl"
      },
      "execution_count": null,
      "outputs": []
    },
    {
      "cell_type": "code",
      "source": [
        "y = df['Exited']"
      ],
      "metadata": {
        "id": "eZh0xIw2afbt"
      },
      "execution_count": null,
      "outputs": []
    },
    {
      "cell_type": "code",
      "source": [
        "drop_col = ['Surname','CustomerId','RowNumber', 'Exited']\n",
        "df_new = df.drop(drop_col, 1)"
      ],
      "metadata": {
        "id": "FTuxzprnakBs"
      },
      "execution_count": null,
      "outputs": []
    },
    {
      "cell_type": "code",
      "source": [
        "# обработка категориальных данных\n",
        "merged_df = df_new.drop(columns=['Gender','Geography']) \n",
        "enc = OneHotEncoder(handle_unknown='ignore')\n",
        "\n",
        "encoded_df = enc.fit_transform(df_new[['Gender','Geography']])\n",
        "column_name = enc.get_feature_names(['Gender','Geography'])\n",
        "\n",
        "encoded_df_col = pd.DataFrame(encoded_df.toarray(), columns= column_name)\n",
        "merged_df = merged_df.join(encoded_df_col)"
      ],
      "metadata": {
        "id": "7lZ7o1cSaqEA"
      },
      "execution_count": null,
      "outputs": []
    },
    {
      "cell_type": "code",
      "source": [
        "merged_df['Exited'] = y"
      ],
      "metadata": {
        "id": "7mPMEzsbap2H"
      },
      "execution_count": null,
      "outputs": []
    },
    {
      "cell_type": "code",
      "source": [
        "merged_df.head()"
      ],
      "metadata": {
        "colab": {
          "base_uri": "https://localhost:8080/",
          "height": 206
        },
        "id": "xXSlppn4ROxb",
        "outputId": "19a1ee4f-0dda-477e-db9d-ac5faa5bf431"
      },
      "execution_count": null,
      "outputs": [
        {
          "output_type": "execute_result",
          "data": {
            "text/plain": [
              "   CreditScore  Age  Tenure    Balance  NumOfProducts  HasCrCard  \\\n",
              "0          619   42       2       0.00              1          1   \n",
              "1          608   41       1   83807.86              1          0   \n",
              "2          502   42       8  159660.80              3          1   \n",
              "3          699   39       1       0.00              2          0   \n",
              "4          850   43       2  125510.82              1          1   \n",
              "\n",
              "   IsActiveMember  EstimatedSalary  Gender_Female  Gender_Male  \\\n",
              "0               1        101348.88            1.0          0.0   \n",
              "1               1        112542.58            1.0          0.0   \n",
              "2               0        113931.57            1.0          0.0   \n",
              "3               0         93826.63            1.0          0.0   \n",
              "4               1         79084.10            1.0          0.0   \n",
              "\n",
              "   Geography_France  Geography_Germany  Geography_Spain  Exited  \n",
              "0               1.0                0.0              0.0       1  \n",
              "1               0.0                0.0              1.0       0  \n",
              "2               1.0                0.0              0.0       1  \n",
              "3               1.0                0.0              0.0       0  \n",
              "4               0.0                0.0              1.0       0  "
            ],
            "text/html": [
              "\n",
              "  <div id=\"df-a1b2b9b7-3735-42a7-b1bc-f267e7782f7f\">\n",
              "    <div class=\"colab-df-container\">\n",
              "      <div>\n",
              "<style scoped>\n",
              "    .dataframe tbody tr th:only-of-type {\n",
              "        vertical-align: middle;\n",
              "    }\n",
              "\n",
              "    .dataframe tbody tr th {\n",
              "        vertical-align: top;\n",
              "    }\n",
              "\n",
              "    .dataframe thead th {\n",
              "        text-align: right;\n",
              "    }\n",
              "</style>\n",
              "<table border=\"1\" class=\"dataframe\">\n",
              "  <thead>\n",
              "    <tr style=\"text-align: right;\">\n",
              "      <th></th>\n",
              "      <th>CreditScore</th>\n",
              "      <th>Age</th>\n",
              "      <th>Tenure</th>\n",
              "      <th>Balance</th>\n",
              "      <th>NumOfProducts</th>\n",
              "      <th>HasCrCard</th>\n",
              "      <th>IsActiveMember</th>\n",
              "      <th>EstimatedSalary</th>\n",
              "      <th>Gender_Female</th>\n",
              "      <th>Gender_Male</th>\n",
              "      <th>Geography_France</th>\n",
              "      <th>Geography_Germany</th>\n",
              "      <th>Geography_Spain</th>\n",
              "      <th>Exited</th>\n",
              "    </tr>\n",
              "  </thead>\n",
              "  <tbody>\n",
              "    <tr>\n",
              "      <th>0</th>\n",
              "      <td>619</td>\n",
              "      <td>42</td>\n",
              "      <td>2</td>\n",
              "      <td>0.00</td>\n",
              "      <td>1</td>\n",
              "      <td>1</td>\n",
              "      <td>1</td>\n",
              "      <td>101348.88</td>\n",
              "      <td>1.0</td>\n",
              "      <td>0.0</td>\n",
              "      <td>1.0</td>\n",
              "      <td>0.0</td>\n",
              "      <td>0.0</td>\n",
              "      <td>1</td>\n",
              "    </tr>\n",
              "    <tr>\n",
              "      <th>1</th>\n",
              "      <td>608</td>\n",
              "      <td>41</td>\n",
              "      <td>1</td>\n",
              "      <td>83807.86</td>\n",
              "      <td>1</td>\n",
              "      <td>0</td>\n",
              "      <td>1</td>\n",
              "      <td>112542.58</td>\n",
              "      <td>1.0</td>\n",
              "      <td>0.0</td>\n",
              "      <td>0.0</td>\n",
              "      <td>0.0</td>\n",
              "      <td>1.0</td>\n",
              "      <td>0</td>\n",
              "    </tr>\n",
              "    <tr>\n",
              "      <th>2</th>\n",
              "      <td>502</td>\n",
              "      <td>42</td>\n",
              "      <td>8</td>\n",
              "      <td>159660.80</td>\n",
              "      <td>3</td>\n",
              "      <td>1</td>\n",
              "      <td>0</td>\n",
              "      <td>113931.57</td>\n",
              "      <td>1.0</td>\n",
              "      <td>0.0</td>\n",
              "      <td>1.0</td>\n",
              "      <td>0.0</td>\n",
              "      <td>0.0</td>\n",
              "      <td>1</td>\n",
              "    </tr>\n",
              "    <tr>\n",
              "      <th>3</th>\n",
              "      <td>699</td>\n",
              "      <td>39</td>\n",
              "      <td>1</td>\n",
              "      <td>0.00</td>\n",
              "      <td>2</td>\n",
              "      <td>0</td>\n",
              "      <td>0</td>\n",
              "      <td>93826.63</td>\n",
              "      <td>1.0</td>\n",
              "      <td>0.0</td>\n",
              "      <td>1.0</td>\n",
              "      <td>0.0</td>\n",
              "      <td>0.0</td>\n",
              "      <td>0</td>\n",
              "    </tr>\n",
              "    <tr>\n",
              "      <th>4</th>\n",
              "      <td>850</td>\n",
              "      <td>43</td>\n",
              "      <td>2</td>\n",
              "      <td>125510.82</td>\n",
              "      <td>1</td>\n",
              "      <td>1</td>\n",
              "      <td>1</td>\n",
              "      <td>79084.10</td>\n",
              "      <td>1.0</td>\n",
              "      <td>0.0</td>\n",
              "      <td>0.0</td>\n",
              "      <td>0.0</td>\n",
              "      <td>1.0</td>\n",
              "      <td>0</td>\n",
              "    </tr>\n",
              "  </tbody>\n",
              "</table>\n",
              "</div>\n",
              "      <button class=\"colab-df-convert\" onclick=\"convertToInteractive('df-a1b2b9b7-3735-42a7-b1bc-f267e7782f7f')\"\n",
              "              title=\"Convert this dataframe to an interactive table.\"\n",
              "              style=\"display:none;\">\n",
              "        \n",
              "  <svg xmlns=\"http://www.w3.org/2000/svg\" height=\"24px\"viewBox=\"0 0 24 24\"\n",
              "       width=\"24px\">\n",
              "    <path d=\"M0 0h24v24H0V0z\" fill=\"none\"/>\n",
              "    <path d=\"M18.56 5.44l.94 2.06.94-2.06 2.06-.94-2.06-.94-.94-2.06-.94 2.06-2.06.94zm-11 1L8.5 8.5l.94-2.06 2.06-.94-2.06-.94L8.5 2.5l-.94 2.06-2.06.94zm10 10l.94 2.06.94-2.06 2.06-.94-2.06-.94-.94-2.06-.94 2.06-2.06.94z\"/><path d=\"M17.41 7.96l-1.37-1.37c-.4-.4-.92-.59-1.43-.59-.52 0-1.04.2-1.43.59L10.3 9.45l-7.72 7.72c-.78.78-.78 2.05 0 2.83L4 21.41c.39.39.9.59 1.41.59.51 0 1.02-.2 1.41-.59l7.78-7.78 2.81-2.81c.8-.78.8-2.07 0-2.86zM5.41 20L4 18.59l7.72-7.72 1.47 1.35L5.41 20z\"/>\n",
              "  </svg>\n",
              "      </button>\n",
              "      \n",
              "  <style>\n",
              "    .colab-df-container {\n",
              "      display:flex;\n",
              "      flex-wrap:wrap;\n",
              "      gap: 12px;\n",
              "    }\n",
              "\n",
              "    .colab-df-convert {\n",
              "      background-color: #E8F0FE;\n",
              "      border: none;\n",
              "      border-radius: 50%;\n",
              "      cursor: pointer;\n",
              "      display: none;\n",
              "      fill: #1967D2;\n",
              "      height: 32px;\n",
              "      padding: 0 0 0 0;\n",
              "      width: 32px;\n",
              "    }\n",
              "\n",
              "    .colab-df-convert:hover {\n",
              "      background-color: #E2EBFA;\n",
              "      box-shadow: 0px 1px 2px rgba(60, 64, 67, 0.3), 0px 1px 3px 1px rgba(60, 64, 67, 0.15);\n",
              "      fill: #174EA6;\n",
              "    }\n",
              "\n",
              "    [theme=dark] .colab-df-convert {\n",
              "      background-color: #3B4455;\n",
              "      fill: #D2E3FC;\n",
              "    }\n",
              "\n",
              "    [theme=dark] .colab-df-convert:hover {\n",
              "      background-color: #434B5C;\n",
              "      box-shadow: 0px 1px 3px 1px rgba(0, 0, 0, 0.15);\n",
              "      filter: drop-shadow(0px 1px 2px rgba(0, 0, 0, 0.3));\n",
              "      fill: #FFFFFF;\n",
              "    }\n",
              "  </style>\n",
              "\n",
              "      <script>\n",
              "        const buttonEl =\n",
              "          document.querySelector('#df-a1b2b9b7-3735-42a7-b1bc-f267e7782f7f button.colab-df-convert');\n",
              "        buttonEl.style.display =\n",
              "          google.colab.kernel.accessAllowed ? 'block' : 'none';\n",
              "\n",
              "        async function convertToInteractive(key) {\n",
              "          const element = document.querySelector('#df-a1b2b9b7-3735-42a7-b1bc-f267e7782f7f');\n",
              "          const dataTable =\n",
              "            await google.colab.kernel.invokeFunction('convertToInteractive',\n",
              "                                                     [key], {});\n",
              "          if (!dataTable) return;\n",
              "\n",
              "          const docLinkHtml = 'Like what you see? Visit the ' +\n",
              "            '<a target=\"_blank\" href=https://colab.research.google.com/notebooks/data_table.ipynb>data table notebook</a>'\n",
              "            + ' to learn more about interactive tables.';\n",
              "          element.innerHTML = '';\n",
              "          dataTable['output_type'] = 'display_data';\n",
              "          await google.colab.output.renderOutput(dataTable, element);\n",
              "          const docLink = document.createElement('div');\n",
              "          docLink.innerHTML = docLinkHtml;\n",
              "          element.appendChild(docLink);\n",
              "        }\n",
              "      </script>\n",
              "    </div>\n",
              "  </div>\n",
              "  "
            ]
          },
          "metadata": {},
          "execution_count": 26
        }
      ]
    },
    {
      "cell_type": "code",
      "source": [
        "train_df, test_df = train_test_split(merged_df, train_size=0.8, random_state=42)"
      ],
      "metadata": {
        "id": "QVJPrinabGSA"
      },
      "execution_count": null,
      "outputs": []
    },
    {
      "cell_type": "code",
      "source": [
        "def get_potential_splits(data, random_subspace): # исходная функция + random_subspace для выборки данных в RandomForest\n",
        "    \n",
        "    potential_splits = {}\n",
        "    _, n_columns = data.shape\n",
        "    column_indices = list(range(n_columns - 1))    \n",
        "    \n",
        "    if random_subspace and random_subspace <= len(column_indices):\n",
        "        column_indexs = random.sample(population=column_indices, k=random_subspace)\n",
        "    \n",
        "    for column_index in column_indexs:          \n",
        "        values = data[:, column_index]\n",
        "        unique_values = np.unique(values)\n",
        "        \n",
        "        potential_splits[column_index] = unique_values\n",
        "    \n",
        "    return potential_splits"
      ],
      "metadata": {
        "id": "HT8MVQ6CJkyC"
      },
      "execution_count": null,
      "outputs": []
    },
    {
      "cell_type": "code",
      "source": [
        "def decision_tree_algorithm(df, counter=0, min_samples=2, max_depth=5, random_subspace=None): # исходная функция + random_subspace для выборки данных в RandomForest\n",
        "    \n",
        "  \n",
        "    if counter == 0:\n",
        "        \n",
        "        global COLUMN_HEADERS\n",
        "        COLUMN_HEADERS = df.columns\n",
        "        data = df.values\n",
        "\n",
        "    else:\n",
        "\n",
        "        data = df           \n",
        "    \n",
        "    \n",
        "    \n",
        "    if (check_purity(data)) or (len(data) < min_samples) or (counter == max_depth):\n",
        "        classification = classify_data(data)\n",
        "        \n",
        "        return classification\n",
        "\n",
        "    \n",
        "   \n",
        "    else: \n",
        "         \n",
        "        counter += 1\n",
        "\n",
        "        potential_splits = get_potential_splits(data, random_subspace)\n",
        "        split_column, split_value = determine_best_split(data, potential_splits)\n",
        "        data_below, data_above = split_data(data, split_column, split_value)\n",
        "        \n",
        "        if len(data_below) == 0 or len(data_above) == 0:\n",
        "            classification = classify_data(data)\n",
        "            return classification\n",
        "        \n",
        "        feature_name = COLUMN_HEADERS[split_column]\n",
        "        \n",
        "        \n",
        "        question = \"{} <= {}\".format(feature_name, split_value)\n",
        "      \n",
        "        sub_tree = {question: []}\n",
        "        \n",
        "        yes_answer = decision_tree_algorithm(data_below, counter, min_samples, max_depth, random_subspace)\n",
        "        no_answer = decision_tree_algorithm(data_above, counter, min_samples, max_depth, random_subspace)\n",
        "        \n",
        "      \n",
        "        if yes_answer == no_answer:\n",
        "            sub_tree = yes_answer\n",
        "        else:\n",
        "            sub_tree[question].append(yes_answer)\n",
        "            sub_tree[question].append(no_answer)\n",
        "        \n",
        "        return sub_tree"
      ],
      "metadata": {
        "id": "UEJvSaiSLbeH"
      },
      "execution_count": null,
      "outputs": []
    },
    {
      "cell_type": "code",
      "source": [
        "def bootstrapping(train_df, n_bootstrap):\n",
        "  \n",
        "    bootstrap_indexes = np.random.randint(low=0, high=len(train_df), size=n_bootstrap)\n",
        "    df_bootstrapped = train_df.iloc[bootstrap_indexes]\n",
        "    \n",
        "    return df_bootstrapped"
      ],
      "metadata": {
        "id": "VMVwbwb9bMi9"
      },
      "execution_count": null,
      "outputs": []
    },
    {
      "cell_type": "code",
      "source": [
        "def random_forest_algorithm(train_df, n_trees, n_bootstrap, n_features, dt_max_depth): # создаем лес, который состоит из decision_tree\n",
        "\n",
        "    forest = []\n",
        "\n",
        "    for i in range(n_trees):\n",
        "      \n",
        "        df_bootstrapped = bootstrapping(train_df, n_bootstrap)\n",
        "        tree = decision_tree_algorithm(df_bootstrapped, max_depth=dt_max_depth, random_subspace=n_features)\n",
        "        forest.append(tree)\n",
        "    \n",
        "    return forest"
      ],
      "metadata": {
        "id": "xHm3u047bzzQ"
      },
      "execution_count": null,
      "outputs": []
    },
    {
      "cell_type": "code",
      "source": [
        "def random_forest_predictions(test_df, forest):\n",
        "    df_predictions = {}\n",
        "\n",
        "    for i in range(len(forest)):\n",
        "\n",
        "        column_name = \"tree_{}\".format(i)\n",
        "        predictions = decision_tree_predictions(test_df, tree=forest[i]) # смотрим, что предсказало каждое дерево\n",
        "        df_predictions[column_name] = predictions\n",
        "\n",
        "    df_predictions = pd.DataFrame(df_predictions)\n",
        "    random_forest_predictions = df_predictions.mode(axis=1)[0] # выбираем самый частый класс который встречается в строке\n",
        "    \n",
        "    return random_forest_predictions"
      ],
      "metadata": {
        "id": "MHzkPzJWb1vG"
      },
      "execution_count": null,
      "outputs": []
    },
    {
      "cell_type": "code",
      "source": [
        "forest = random_forest_algorithm(train_df, n_trees=21, n_bootstrap=4000, n_features=7, dt_max_depth=10)\n",
        "predictions = random_forest_predictions(test_df, forest)"
      ],
      "metadata": {
        "id": "WB5X-NFTIgYL"
      },
      "execution_count": null,
      "outputs": []
    },
    {
      "cell_type": "code",
      "source": [
        "accuracy = accuracy_score(predictions, test_df[\"Exited\"])\n",
        "\n",
        "print(\"Accuracy RF: \" + str(accuracy))"
      ],
      "metadata": {
        "colab": {
          "base_uri": "https://localhost:8080/"
        },
        "id": "oUJV-Hb-PP8-",
        "outputId": "2d1898b4-ab39-454e-a607-79454cffce6a"
      },
      "execution_count": null,
      "outputs": [
        {
          "output_type": "stream",
          "name": "stdout",
          "text": [
            "Accuracy RF: 0.8665\n"
          ]
        }
      ]
    },
    {
      "cell_type": "code",
      "source": [
        "pprint(forest[0]) # одно из деревьев "
      ],
      "metadata": {
        "colab": {
          "base_uri": "https://localhost:8080/"
        },
        "id": "2G-ecXcGbb1z",
        "outputId": "0e91ffc9-7685-406a-d7f4-c457fd79e4a8"
      },
      "execution_count": null,
      "outputs": [
        {
          "output_type": "stream",
          "name": "stdout",
          "text": [
            "{'Age <= 41.0': [{'Gender_Male <= 0.0': [{'IsActiveMember <= 0.0': [{'NumOfProducts <= 1.0': [{'Balance <= 49572.73': [{'CreditScore <= 461.0': [0.0,\n",
            "                                                                                                                                                 {'Geography_Spain <= 0.0': [{'Age <= 35.0': [{'Balance <= 35741.69': [0.0,\n",
            "                                                                                                                                                                                                                       1.0]},\n",
            "                                                                                                                                                                                              {'Age <= 40.0': [{'Age <= 36.0': [0.0,\n",
            "                                                                                                                                                                                                                                1.0]},\n",
            "                                                                                                                                                                                                               {'HasCrCard <= 0.0': [1.0,\n",
            "                                                                                                                                                                                                                                     0.0]}]}]},\n",
            "                                                                                                                                                                             {'CreditScore <= 773.0': [1.0,\n",
            "                                                                                                                                                                                                       0.0]}]}]},\n",
            "                                                                                                                       {'Geography_Germany <= 0.0': [{'Tenure <= 8.0': [{'Balance <= 169988.35': [0.0,\n",
            "                                                                                                                                                                                                  1.0]},\n",
            "                                                                                                                                                                        {'Balance <= 128362.59': [{'EstimatedSalary <= 81776.84': [{'Geography_Spain <= 0.0': [1.0,\n",
            "                                                                                                                                                                                                                                                               0.0]},\n",
            "                                                                                                                                                                                                                                   0.0]},\n",
            "                                                                                                                                                                                                  {'HasCrCard <= 0.0': [0.0,\n",
            "                                                                                                                                                                                                                        {'EstimatedSalary <= 48640.77': [0.0,\n",
            "                                                                                                                                                                                                                                                         1.0]}]}]}]},\n",
            "                                                                                                                                                     {'CreditScore <= 506.0': [0.0,\n",
            "                                                                                                                                                                               {'CreditScore <= 545.0': [{'EstimatedSalary <= 13123.41': [0.0,\n",
            "                                                                                                                                                                                                                                          {'Balance <= 124401.6': [1.0,\n",
            "                                                                                                                                                                                                                                                                   0.0]}]},\n",
            "                                                                                                                                                                                                         {'EstimatedSalary <= 104721.5': [1.0,\n",
            "                                                                                                                                                                                                                                          0.0]}]}]}]}]},\n",
            "                                                                                              {'NumOfProducts <= 2.0': [{'Balance <= 0.0': [{'EstimatedSalary <= 78133.48': [{'Tenure <= 0.0': [1.0,\n",
            "                                                                                                                                                                                                {'EstimatedSalary <= 72945.32': [0.0,\n",
            "                                                                                                                                                                                                                                 1.0]}]},\n",
            "                                                                                                                                                                             0.0]},\n",
            "                                                                                                                                            {'CreditScore <= 494.0': [{'EstimatedSalary <= 151623.91': [{'Age <= 36.0': [0.0,\n",
            "                                                                                                                                                                                                                         {'CreditScore <= 416.0': [0.0,\n",
            "                                                                                                                                                                                                                                                   1.0]}]},\n",
            "                                                                                                                                                                                                        1.0]},\n",
            "                                                                                                                                                                      {'Balance <= 136100.69': [{'Balance <= 134997.49': [0.0,\n",
            "                                                                                                                                                                                                                          1.0]},\n",
            "                                                                                                                                                                                                0.0]}]}]},\n",
            "                                                                                                                        {'EstimatedSalary <= 16649.31': [1.0,\n",
            "                                                                                                                                                         {'Geography_Spain <= 0.0': [{'EstimatedSalary <= 154971.63': [1.0,\n",
            "                                                                                                                                                                                                                       {'Geography_Germany <= 0.0': [0.0,\n",
            "                                                                                                                                                                                                                                                     1.0]}]},\n",
            "                                                                                                                                                                                     0.0]}]}]}]},\n",
            "                                                                    {'NumOfProducts <= 2.0': [{'NumOfProducts <= 1.0': [{'Balance <= 0.0': [{'Age <= 30.0': [0.0,\n",
            "                                                                                                                                                             {'EstimatedSalary <= 51972.92': [{'EstimatedSalary <= 31299.71': [0.0,\n",
            "                                                                                                                                                                                                                               1.0]},\n",
            "                                                                                                                                                                                              {'Tenure <= 7.0': [{'Tenure <= 5.0': [0.0,\n",
            "                                                                                                                                                                                                                                    1.0]},\n",
            "                                                                                                                                                                                                                 0.0]}]}]},\n",
            "                                                                                                                                            {'Age <= 32.0': [0.0,\n",
            "                                                                                                                                                             {'CreditScore <= 350.0': [1.0,\n",
            "                                                                                                                                                                                       0.0]}]}]},\n",
            "                                                                                                                        {'Balance <= 174185.98': [{'Balance <= 96129.32': [{'CreditScore <= 642.0': [0.0,\n",
            "                                                                                                                                                                                                     {'Tenure <= 9.0': [0.0,\n",
            "                                                                                                                                                                                                                        {'EstimatedSalary <= 13935.53': [1.0,\n",
            "                                                                                                                                                                                                                                                         0.0]}]}]},\n",
            "                                                                                                                                                                           {'HasCrCard <= 0.0': [0.0,\n",
            "                                                                                                                                                                                                 {'Age <= 36.0': [0.0,\n",
            "                                                                                                                                                                                                                  {'EstimatedSalary <= 189664.43': [0.0,\n",
            "                                                                                                                                                                                                                                                    1.0]}]}]}]},\n",
            "                                                                                                                                                  {'Tenure <= 4.0': [1.0,\n",
            "                                                                                                                                                                     0.0]}]}]},\n",
            "                                                                                              1.0]}]},\n",
            "                                         {'Balance <= 108393.35': [{'Age <= 35.0': [{'NumOfProducts <= 1.0': [{'Balance <= 0.0': [{'EstimatedSalary <= 68479.6': [{'CreditScore <= 775.0': [0.0,\n",
            "                                                                                                                                                                                            1.0]},\n",
            "                                                                                                                                                                  {'Age <= 30.0': [{'EstimatedSalary <= 126336.72': [0.0,\n",
            "                                                                                                                                                                                                                     {'CreditScore <= 516.0': [1.0,\n",
            "                                                                                                                                                                                                                                               0.0]}]},\n",
            "                                                                                                                                                                                   {'EstimatedSalary <= 169361.89': [0.0,\n",
            "                                                                                                                                                                                                                     1.0]}]}]},\n",
            "                                                                                                                                  {'Tenure <= 3.0': [{'CreditScore <= 701.0': [0.0,\n",
            "                                                                                                                                                                               {'Balance <= 71281.29': [1.0,\n",
            "                                                                                                                                                                                                        {'Geography_Germany <= 0.0': [0.0,\n",
            "                                                                                                                                                                                                                                      1.0]}]}]},\n",
            "                                                                                                                                                     0.0]}]},\n",
            "                                                                                                              {'NumOfProducts <= 2.0': [{'Age <= 18.0': [{'CreditScore <= 644.0': [0.0,\n",
            "                                                                                                                                                                                   {'EstimatedSalary <= 47799.15': [0.0,\n",
            "                                                                                                                                                                                                                    1.0]}]},\n",
            "                                                                                                                                                         {'CreditScore <= 847.0': [0.0,\n",
            "                                                                                                                                                                                   {'Age <= 30.0': [0.0,\n",
            "                                                                                                                                                                                                    {'HasCrCard <= 0.0': [1.0,\n",
            "                                                                                                                                                                                                                          0.0]}]}]}]},\n",
            "                                                                                                                                        {'CreditScore <= 651.0': [1.0,\n",
            "                                                                                                                                                                  0.0]}]}]},\n",
            "                                                                                    {'NumOfProducts <= 1.0': [{'HasCrCard <= 0.0': [{'Tenure <= 9.0': [{'CreditScore <= 568.0': [{'CreditScore <= 561.0': [0.0,\n",
            "                                                                                                                                                                                                           {'Geography_Spain <= 0.0': [1.0,\n",
            "                                                                                                                                                                                                                                       0.0]}]},\n",
            "                                                                                                                                                                                 {'EstimatedSalary <= 135227.23': [0.0,\n",
            "                                                                                                                                                                                                                   {'EstimatedSalary <= 152876.13': [1.0,\n",
            "                                                                                                                                                                                                                                                     0.0]}]}]},\n",
            "                                                                                                                                                       1.0]},\n",
            "                                                                                                                                    {'EstimatedSalary <= 114279.63': [{'CreditScore <= 476.0': [{'Geography_Spain <= 0.0': [1.0,\n",
            "                                                                                                                                                                                                                            0.0]},\n",
            "                                                                                                                                                                                                0.0]},\n",
            "                                                                                                                                                                      {'Tenure <= 6.0': [{'CreditScore <= 755.0': [{'Balance <= 104817.41': [1.0,\n",
            "                                                                                                                                                                                                                                             0.0]},\n",
            "                                                                                                                                                                                                                   0.0]},\n",
            "                                                                                                                                                                                         0.0]}]}]},\n",
            "                                                                                                              {'CreditScore <= 587.0': [0.0,\n",
            "                                                                                                                                        {'CreditScore <= 589.0': [1.0,\n",
            "                                                                                                                                                                  {'EstimatedSalary <= 134158.09': [{'EstimatedSalary <= 133692.88': [0.0,\n",
            "                                                                                                                                                                                                                                      1.0]},\n",
            "                                                                                                                                                                                                    0.0]}]}]}]}]},\n",
            "                                                                   {'NumOfProducts <= 2.0': [{'Balance <= 108760.27': [1.0,\n",
            "                                                                                                                       {'IsActiveMember <= 0.0': [{'Geography_Germany <= 0.0': [0.0,\n",
            "                                                                                                                                                                                {'Tenure <= 1.0': [{'CreditScore <= 677.0': [{'EstimatedSalary <= 152541.89': [1.0,\n",
            "                                                                                                                                                                                                                                                               0.0]},\n",
            "                                                                                                                                                                                                                             0.0]},\n",
            "                                                                                                                                                                                                   {'NumOfProducts <= 1.0': [{'Tenure <= 5.0': [1.0,\n",
            "                                                                                                                                                                                                                                                0.0]},\n",
            "                                                                                                                                                                                                                             0.0]}]}]},\n",
            "                                                                                                                                                  {'Balance <= 198338.77': [{'NumOfProducts <= 1.0': [{'EstimatedSalary <= 152872.39': [{'CreditScore <= 435.0': [1.0,\n",
            "                                                                                                                                                                                                                                                                  0.0]},\n",
            "                                                                                                                                                                                                                                        0.0]},\n",
            "                                                                                                                                                                                                      0.0]},\n",
            "                                                                                                                                                                            1.0]}]}]},\n",
            "                                                                                             1.0]}]}]},\n",
            "                 {'Geography_Germany <= 0.0': [{'Age <= 65.0': [{'Age <= 46.0': [{'NumOfProducts <= 2.0': [{'NumOfProducts <= 1.0': [{'CreditScore <= 664.0': [{'EstimatedSalary <= 62193.92': [{'EstimatedSalary <= 49324.03': [{'CreditScore <= 637.0': [1.0,\n",
            "                                                                                                                                                                                                                                                           0.0]},\n",
            "                                                                                                                                                                                                                                 0.0]},\n",
            "                                                                                                                                                                                                {'IsActiveMember <= 0.0': [1.0,\n",
            "                                                                                                                                                                                                                           {'Tenure <= 2.0': [1.0,\n",
            "                                                                                                                                                                                                                                              0.0]}]}]},\n",
            "                                                                                                                                                               {'Balance <= 0.0': [{'CreditScore <= 692.0': [{'Tenure <= 8.0': [0.0,\n",
            "                                                                                                                                                                                                                                1.0]},\n",
            "                                                                                                                                                                                                             {'EstimatedSalary <= 96528.0': [1.0,\n",
            "                                                                                                                                                                                                                                             0.0]}]},\n",
            "                                                                                                                                                                                   {'EstimatedSalary <= 107415.02': [{'Age <= 43.0': [1.0,\n",
            "                                                                                                                                                                                                                                      0.0]},\n",
            "                                                                                                                                                                                                                     {'Balance <= 178074.33': [0.0,\n",
            "                                                                                                                                                                                                                                               1.0]}]}]}]},\n",
            "                                                                                                                                     {'EstimatedSalary <= 62370.67': [{'EstimatedSalary <= 57898.58': [{'Tenure <= 4.0': [{'Balance <= 99045.93': [0.0,\n",
            "                                                                                                                                                                                                                                                   1.0]},\n",
            "                                                                                                                                                                                                                          0.0]},\n",
            "                                                                                                                                                                                                       1.0]},\n",
            "                                                                                                                                                                      0.0]}]},\n",
            "                                                                                                           1.0]},\n",
            "                                                                                 {'NumOfProducts <= 2.0': [{'IsActiveMember <= 0.0': [{'Balance <= 142669.93': [{'Age <= 51.0': [{'Balance <= 121197.64': [{'NumOfProducts <= 1.0': [1.0,\n",
            "                                                                                                                                                                                                                                     0.0]},\n",
            "                                                                                                                                                                                                           0.0]},\n",
            "                                                                                                                                                                                 {'EstimatedSalary <= 186476.91': [1.0,\n",
            "                                                                                                                                                                                                                   0.0]}]},\n",
            "                                                                                                                                                                {'EstimatedSalary <= 523.0': [0.0,\n",
            "                                                                                                                                                                                              1.0]}]},\n",
            "                                                                                                                                      {'Balance <= 164978.01': [{'Age <= 61.0': [{'CreditScore <= 707.0': [0.0,\n",
            "                                                                                                                                                                                                           {'Age <= 59.0': [0.0,\n",
            "                                                                                                                                                                                                                            1.0]}]},\n",
            "                                                                                                                                                                                 0.0]},\n",
            "                                                                                                                                                                1.0]}]},\n",
            "                                                                                                           1.0]}]},\n",
            "                                                                {'EstimatedSalary <= 188435.38': [{'IsActiveMember <= 0.0': [{'Age <= 66.0': [0.0,\n",
            "                                                                                                                                              1.0]},\n",
            "                                                                                                                             0.0]},\n",
            "                                                                                                  {'NumOfProducts <= 1.0': [1.0,\n",
            "                                                                                                                            0.0]}]}]},\n",
            "                                               {'NumOfProducts <= 1.0': [{'IsActiveMember <= 0.0': [{'Age <= 48.0': [{'EstimatedSalary <= 167461.5': [{'Age <= 42.0': [{'CreditScore <= 580.0': [1.0,\n",
            "                                                                                                                                                                                                 {'Balance <= 115766.26': [{'HasCrCard <= 0.0': [1.0,\n",
            "                                                                                                                                                                                                                                                 0.0]},\n",
            "                                                                                                                                                                                                                           0.0]}]},\n",
            "                                                                                                                                                                       {'Tenure <= 2.0': [1.0,\n",
            "                                                                                                                                                                                          {'HasCrCard <= 0.0': [{'Balance <= 121898.82': [0.0,\n",
            "                                                                                                                                                                                                                                          1.0]},\n",
            "                                                                                                                                                                                                                {'CreditScore <= 591.0': [0.0,\n",
            "                                                                                                                                                                                                                                          1.0]}]}]}]},\n",
            "                                                                                                                                                      1.0]},\n",
            "                                                                                                                     {'EstimatedSalary <= 85516.37': [1.0,\n",
            "                                                                                                                                                      {'Balance <= 123805.03': [{'Age <= 50.0': [1.0,\n",
            "                                                                                                                                                                                                 {'Balance <= 114421.55': [{'EstimatedSalary <= 90877.76': [0.0,\n",
            "                                                                                                                                                                                                                                                            1.0]},\n",
            "                                                                                                                                                                                                                           0.0]}]},\n",
            "                                                                                                                                                                                1.0]}]}]},\n",
            "                                                                                                    {'Balance <= 86568.75': [0.0,\n",
            "                                                                                                                             {'Balance <= 121438.58': [{'Balance <= 116800.25': [{'CreditScore <= 696.0': [{'EstimatedSalary <= 95421.0': [{'Age <= 63.0': [1.0,\n",
            "                                                                                                                                                                                                                                                            0.0]},\n",
            "                                                                                                                                                                                                                                           {'Age <= 61.0': [1.0,\n",
            "                                                                                                                                                                                                                                                            0.0]}]},\n",
            "                                                                                                                                                                                                           1.0]},\n",
            "                                                                                                                                                                                 1.0]},\n",
            "                                                                                                                                                       {'CreditScore <= 689.0': [{'CreditScore <= 637.0': [{'EstimatedSalary <= 96961.0': [1.0,\n",
            "                                                                                                                                                                                                                                           {'Tenure <= 7.0': [0.0,\n",
            "                                                                                                                                                                                                                                                              1.0]}]},\n",
            "                                                                                                                                                                                                           0.0]},\n",
            "                                                                                                                                                                                 {'Gender_Male <= 0.0': [1.0,\n",
            "                                                                                                                                                                                                         {'CreditScore <= 768.0': [{'Age <= 42.0': [0.0,\n",
            "                                                                                                                                                                                                                                                    1.0]},\n",
            "                                                                                                                                                                                                                                   0.0]}]}]}]}]}]},\n",
            "                                                                         {'NumOfProducts <= 2.0': [{'HasCrCard <= 0.0': [{'Gender_Female <= 0.0': [0.0,\n",
            "                                                                                                                                                   {'Age <= 49.0': [0.0,\n",
            "                                                                                                                                                                    {'Balance <= 111739.4': [0.0,\n",
            "                                                                                                                                                                                             1.0]}]}]},\n",
            "                                                                                                                         {'Age <= 45.0': [{'Age <= 43.0': [0.0,\n",
            "                                                                                                                                                           {'Tenure <= 3.0': [0.0,\n",
            "                                                                                                                                                                              {'Gender_Female <= 0.0': [0.0,\n",
            "                                                                                                                                                                                                        1.0]}]}]},\n",
            "                                                                                                                                          {'IsActiveMember <= 0.0': [{'Balance <= 127723.25': [{'Balance <= 102278.79': [{'Tenure <= 4.0': [0.0,\n",
            "                                                                                                                                                                                                                                            1.0]},\n",
            "                                                                                                                                                                                                                         1.0]},\n",
            "                                                                                                                                                                                               0.0]},\n",
            "                                                                                                                                                                     {'Age <= 53.0': [{'Age <= 46.0': [0.0,\n",
            "                                                                                                                                                                                                       {'Balance <= 133903.12': [1.0,\n",
            "                                                                                                                                                                                                                                 0.0]}]},\n",
            "                                                                                                                                                                                      {'Gender_Female <= 0.0': [0.0,\n",
            "                                                                                                                                                                                                                {'CreditScore <= 546.0': [1.0,\n",
            "                                                                                                                                                                                                                                          0.0]}]}]}]}]}]},\n",
            "                                                                                                   1.0]}]}]}]}\n"
          ]
        }
      ]
    }
  ]
}