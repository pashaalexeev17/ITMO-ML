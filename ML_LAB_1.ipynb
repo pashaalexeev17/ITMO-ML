{
  "cells": [
    {
      "cell_type": "markdown",
      "metadata": {
        "id": "131T1pm5PaF4"
      },
      "source": [
        "Перед началом выполнения, сделайте копию этого colab'а. Чтобы сделать копию нужно в пункте меню Файл выбрать \"Сохранить копию на диске\""
      ]
    },
    {
      "cell_type": "markdown",
      "metadata": {
        "id": "BsNwjQDRfmLY"
      },
      "source": [
        "# Задание 1"
      ]
    },
    {
      "cell_type": "markdown",
      "metadata": {
        "id": "wu6r1-s7fmLe"
      },
      "source": [
        "---"
      ]
    },
    {
      "cell_type": "markdown",
      "metadata": {
        "id": "zxRIdPO9gYyX"
      },
      "source": [
        "Напишите программу, которая будет решать систему линейных уравнений вида:\n",
        "\n",
        "\\begin{matrix} a_{11}x+a_{12}y=b_{1}&(1) \\\\ a_{21}x+a_{22}y=b_{2} &(2) \\end{matrix}\n",
        "​\t\n",
        "На вход программа должна принимать 2 строки.\n",
        "\n",
        "Каждая строка содержит 3 действительных числа через пробел: коэффициенты a и b.\n",
        "\n",
        "На выходе программа должна выдавать значения x и y в одну строку через пробел.\n",
        " \n",
        "\n",
        "Примечание 1. Для разделения строки на отдельные элементы используйте функцию split()\n",
        "\n",
        "Примечание 2. В качестве разделителя между целой и дробной частью используйте точку, например 0.2"
      ]
    },
    {
      "cell_type": "code",
      "execution_count": null,
      "metadata": {
        "id": "6sxlcLbVlrjl"
      },
      "outputs": [],
      "source": [
        "import numpy as np"
      ]
    },
    {
      "cell_type": "code",
      "source": [
        "def linan(l_1, l_2):\n",
        "  l_1_sp = l_1.split()\n",
        "  l_2_sp = l_2.split()\n",
        "\n",
        "  coef_m = np.array([[int(l_1_sp[0]), int(l_1_sp[1])], [int(l_2_sp[0]), int(l_2_sp[1])]]) # Матрица (левая часть системы)\n",
        "  b_m = np.array([int(l_1_sp[2]), int(l_2_sp[2])]) # b_1 b_2\n",
        "\n",
        "  f = np.linalg.solve(coef_m, b_m) \n",
        "\n",
        "  return f"
      ],
      "metadata": {
        "id": "3pQhb1MYFRXs"
      },
      "execution_count": null,
      "outputs": []
    },
    {
      "cell_type": "code",
      "source": [
        "linan('4 1 5', '5 8 40')"
      ],
      "metadata": {
        "colab": {
          "base_uri": "https://localhost:8080/"
        },
        "id": "Y8orKW8QEb04",
        "outputId": "f05693df-4d66-44d9-9743-093e68b6265f"
      },
      "execution_count": null,
      "outputs": [
        {
          "output_type": "execute_result",
          "data": {
            "text/plain": [
              "array([0., 5.])"
            ]
          },
          "metadata": {},
          "execution_count": 7
        }
      ]
    },
    {
      "cell_type": "markdown",
      "metadata": {
        "id": "wLoVDMQnfmOv"
      },
      "source": [
        "# Задание 2"
      ]
    },
    {
      "cell_type": "markdown",
      "metadata": {
        "id": "6bmt_YF3fmOw"
      },
      "source": [
        "Напишите функцию `decorate_matrix`, которая получает на вход одно целое число больше единицы. Функция должна возвращать матрицу n на n, у которой на границах стоят единицы, а на всех остальных позициях(если остались позиции не на границах) стоят нули.\n",
        "\n",
        "Нужно сделать без использования  циклов.\n",
        "\n",
        "```\n",
        "# ожидаемый резальтат для аргумента 5\n",
        "array([[1., 1., 1., 1., 1.],\n",
        "[1., 0., 0., 0., 1.],\n",
        "[1., 0., 0., 0., 1.],\n",
        "[1., 0., 0., 0., 1.],\n",
        "[1., 1., 1., 1., 1.]])\n",
        "```\n",
        "\n"
      ]
    },
    {
      "cell_type": "code",
      "execution_count": null,
      "metadata": {
        "id": "XHwTpPKmFvSR"
      },
      "outputs": [],
      "source": [
        "def decorate_matrix(n):\n",
        "    matrix = np.zeros((n, n))\n",
        "    matrix[0] = 1\n",
        "    matrix[-1] = 1\n",
        "    matrix[0:-1, 0] = 1 \n",
        "    matrix[0:-1, -1] = 1 \n",
        "    return matrix"
      ]
    },
    {
      "cell_type": "code",
      "source": [
        "decorate_matrix(5)"
      ],
      "metadata": {
        "colab": {
          "base_uri": "https://localhost:8080/"
        },
        "id": "74PcPshZFckP",
        "outputId": "1196abed-2da4-4a8c-e239-9b9975334200"
      },
      "execution_count": null,
      "outputs": [
        {
          "output_type": "execute_result",
          "data": {
            "text/plain": [
              "array([[1., 1., 1., 1., 1.],\n",
              "       [1., 0., 0., 0., 1.],\n",
              "       [1., 0., 0., 0., 1.],\n",
              "       [1., 0., 0., 0., 1.],\n",
              "       [1., 1., 1., 1., 1.]])"
            ]
          },
          "metadata": {},
          "execution_count": 9
        }
      ]
    },
    {
      "cell_type": "markdown",
      "metadata": {
        "id": "75sxny1zSCbl"
      },
      "source": [
        "# Задание 3"
      ]
    },
    {
      "cell_type": "markdown",
      "metadata": {
        "id": "2Xq1tBBAS5UJ"
      },
      "source": [
        "1) реализуйте 2 функции:\n",
        "\n",
        "$f(x) = (x+a)^2 - b$ \n",
        "\n",
        "$g(x) = |f(x)|$\n",
        "\n",
        "2) Найдите аргументы, при которых достигается минимум функций $f(x)$ и $g(x)$\n",
        "\n",
        "Пример. \n",
        "Входные значение: $a=3$ и $b=4$\n",
        "\n",
        "Выходные значения:\n",
        "\n",
        "`-3.0 -1.0`"
      ]
    },
    {
      "cell_type": "code",
      "execution_count": null,
      "metadata": {
        "id": "QN_wVZ3oF6Fd"
      },
      "outputs": [],
      "source": [
        "from scipy.optimize import golden"
      ]
    },
    {
      "cell_type": "code",
      "source": [
        "a = 3\n",
        "b = 4\n",
        "def f(x): #1\n",
        "  return (x+a)**2 - b \n",
        "\n",
        "def g(x): \n",
        "  return abs(f(x))"
      ],
      "metadata": {
        "id": "Cj693pg-Frip"
      },
      "execution_count": null,
      "outputs": []
    },
    {
      "cell_type": "code",
      "source": [
        "min_f = round(golden(f, full_output=False), 3)\n",
        "min_g_1 = round(golden(g, brack=(-10, -4), full_output=False), 3)\n",
        "min_g_2 = round(golden(g, brack=(-1, 10), full_output=False), 3)\n",
        "\n",
        "print(min_f, min_g_2, min_g_1)\n"
      ],
      "metadata": {
        "colab": {
          "base_uri": "https://localhost:8080/"
        },
        "id": "jOMQdInuF1Xj",
        "outputId": "426103d8-4eba-4389-f3ec-adf8617d3a64"
      },
      "execution_count": null,
      "outputs": [
        {
          "output_type": "stream",
          "name": "stdout",
          "text": [
            "-3.0 -1 -5.0\n"
          ]
        }
      ]
    },
    {
      "cell_type": "markdown",
      "metadata": {
        "id": "efml9GzISC9Q"
      },
      "source": [
        "# Задание 4"
      ]
    },
    {
      "cell_type": "markdown",
      "metadata": {
        "id": "SDZvKcsTVbAW"
      },
      "source": [
        "Постройте графики для функций из предыдущего задания и отметьте другим цветом на графиках точки найденных минимумов."
      ]
    },
    {
      "cell_type": "code",
      "execution_count": null,
      "metadata": {
        "id": "z1epG9NOTTj_"
      },
      "outputs": [],
      "source": [
        "from matplotlib import pyplot as plt\n",
        "%matplotlib inline"
      ]
    },
    {
      "cell_type": "code",
      "source": [
        "x = np.linspace(-10, 10)\n",
        "plt.plot(x, f(x), color='blue')\n",
        "plt.plot(min_f, f(min_f), marker=\"o\", color='red')"
      ],
      "metadata": {
        "colab": {
          "base_uri": "https://localhost:8080/",
          "height": 283
        },
        "id": "LjtukjwZGF7_",
        "outputId": "960a16a1-1776-42ff-9d48-bd229bc0cdaa"
      },
      "execution_count": null,
      "outputs": [
        {
          "output_type": "execute_result",
          "data": {
            "text/plain": [
              "[<matplotlib.lines.Line2D at 0x7f5370bcf590>]"
            ]
          },
          "metadata": {},
          "execution_count": 14
        },
        {
          "output_type": "display_data",
          "data": {
            "text/plain": [
              "<Figure size 432x288 with 1 Axes>"
            ],
            "image/png": "[encoded data removed]"
          },
          "metadata": {
            "needs_background": "light"
          }
        }
      ]
    },
    {
      "cell_type": "code",
      "execution_count": null,
      "metadata": {
        "colab": {
          "base_uri": "https://localhost:8080/",
          "height": 265
        },
        "id": "G-ZA9bBUGRDP",
        "outputId": "5b7a2fa6-ce15-4de1-e5a3-7108e52a6d14"
      },
      "outputs": [
        {
          "output_type": "display_data",
          "data": {
            "text/plain": [
              "<Figure size 432x288 with 1 Axes>"
            ],
            "image/png": "[encoded data removed]"
          },
          "metadata": {
            "needs_background": "light"
          }
        }
      ],
      "source": [
        "x = np.linspace(-7, 10)\n",
        "plt.plot(x, g(x), color='blue')\n",
        "plt.plot(min_g_2, g(min_g_2), marker=\"o\", color='red')\n",
        "plt.plot(min_g_1, g(min_g_1), marker=\"o\", color='red')\n",
        "\n",
        "plt.show()"
      ]
    },
    {
      "cell_type": "markdown",
      "metadata": {
        "id": "mrby3EfiSDKJ"
      },
      "source": [
        "# Задание 5"
      ]
    },
    {
      "cell_type": "markdown",
      "metadata": {
        "id": "J6AZ8785VkQd"
      },
      "source": [
        "1000 человек бросают монетку. Каждый бросил 10 раз подряд.\n",
        "\n",
        " 1. Какова вероятность того, что хотя бы у одного человека монетка выпала 10 раз подряд той же самой стороной (орлом или решкой)? "
      ]
    },
    {
      "cell_type": "code",
      "execution_count": null,
      "metadata": {
        "id": "qNRW-aD3eBO9"
      },
      "outputs": [],
      "source": [
        "from math import factorial #1"
      ]
    },
    {
      "cell_type": "code",
      "source": [
        "def bernul(n, p, k):\n",
        "  c_k_n = factorial(n) / (factorial(k)*factorial(n-k))\n",
        "  p_b = c_k_n * (p**k) * ((1-p)**(n-k))\n",
        "  return p_b"
      ],
      "metadata": {
        "id": "Yu3CZKJaGN05"
      },
      "execution_count": null,
      "outputs": []
    },
    {
      "cell_type": "code",
      "source": [
        "p = bernul(10, 0.5, 10) * 2 # вероятнсоть для одного человека - орел или решка(X2)\n",
        "\n",
        "l = 1 -((1-p) ** 1000)\n",
        "\n",
        "print(round(l, 3))"
      ],
      "metadata": {
        "colab": {
          "base_uri": "https://localhost:8080/"
        },
        "id": "NneGUY7qGQIC",
        "outputId": "15122669-e286-4b4a-f4dc-196a1990d761"
      },
      "execution_count": null,
      "outputs": [
        {
          "output_type": "stream",
          "name": "stdout",
          "text": [
            "0.858\n"
          ]
        }
      ]
    },
    {
      "cell_type": "markdown",
      "metadata": {
        "id": "DlvCY2Dyl3tI"
      },
      "source": [
        "2. Какова вероятность того, что хотя бы у одного человека монетка выпала 8 раз подряд той же самой стороной (орлом или решкой)? "
      ]
    },
    {
      "cell_type": "code",
      "execution_count": null,
      "metadata": {
        "colab": {
          "base_uri": "https://localhost:8080/"
        },
        "id": "FiFWDwbkh4cP",
        "outputId": "cedac2a9-a0d1-4a09-e855-d0e02803f9fd"
      },
      "outputs": [
        {
          "output_type": "stream",
          "name": "stdout",
          "text": [
            "1.0\n"
          ]
        }
      ],
      "source": [
        "a_1 = bernul(10, 0.5, 8) # 8 раз #2\n",
        "a_2 = bernul(10, 0.5, 9) # 9 раз\n",
        "a_3 = bernul(10, 0.5, 10) # 10 раз\n",
        "\n",
        "a_all = (a_1 + a_2 + a_3) * 2 # орел + решка (X2)\n",
        "\n",
        "p_2 = 1 - (1-a_all) ** 1000 # стремится к 1\n",
        "\n",
        "print(p_2)"
      ]
    },
    {
      "cell_type": "markdown",
      "metadata": {
        "id": "Vt1EuptZnGB8"
      },
      "source": [
        "3. Какова вероятность того, что ровно у троих человек из 1000 монетка выпала 10 раз подряд той же самой стороной (орлом или решкой)?"
      ]
    },
    {
      "cell_type": "code",
      "execution_count": null,
      "metadata": {
        "colab": {
          "base_uri": "https://localhost:8080/"
        },
        "id": "-Ifl1op9nCnU",
        "outputId": "cafd881f-0e1f-48d6-d4d5-410adb646bdc"
      },
      "outputs": [
        {
          "output_type": "execute_result",
          "data": {
            "text/plain": [
              "0.1168"
            ]
          },
          "metadata": {},
          "execution_count": 20
        }
      ],
      "source": [
        "round(bernul(1000, a_3, 3) * 2, 4)  #3"
      ]
    }
  ],
  "metadata": {
    "colab": {
      "provenance": []
    },
    "kernelspec": {
      "display_name": "Python 3",
      "language": "python",
      "name": "python3"
    },
    "language_info": {
      "codemirror_mode": {
        "name": "ipython",
        "version": 3
      },
      "file_extension": ".py",
      "mimetype": "text/x-python",
      "name": "python",
      "nbconvert_exporter": "python",
      "pygments_lexer": "ipython3",
      "version": "3.7.4"
    }
  },
  "nbformat": 4,
  "nbformat_minor": 0
}